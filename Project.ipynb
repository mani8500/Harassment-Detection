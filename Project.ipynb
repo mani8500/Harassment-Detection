{
  "cells": [
    {
      "cell_type": "markdown",
      "id": "7311c296",
      "metadata": {
        "id": "7311c296",
        "papermill": {
          "duration": 0.05018,
          "end_time": "2021-09-29T03:54:49.635862",
          "exception": false,
          "start_time": "2021-09-29T03:54:49.585682",
          "status": "completed"
        },
        "tags": []
      },
      "source": [
        "# EDA for SIngle label Case Study"
      ]
    },
    {
      "cell_type": "markdown",
      "id": "442d512c",
      "metadata": {
        "id": "442d512c"
      },
      "source": [
        "### Importing necessary libraries for data analysis and visualization in Python. "
      ]
    },
    {
      "cell_type": "code",
      "execution_count": 1,
      "id": "0ac668ee",
      "metadata": {
        "execution": {
          "iopub.execute_input": "2021-09-29T03:54:50.209666Z",
          "iopub.status.busy": "2021-09-29T03:54:50.209058Z",
          "iopub.status.idle": "2021-09-29T03:54:50.975122Z",
          "shell.execute_reply": "2021-09-29T03:54:50.975582Z",
          "shell.execute_reply.started": "2021-09-29T03:13:55.513465Z"
        },
        "id": "0ac668ee",
        "papermill": {
          "duration": 0.820804,
          "end_time": "2021-09-29T03:54:50.975750",
          "exception": false,
          "start_time": "2021-09-29T03:54:50.154946",
          "status": "completed"
        },
        "tags": []
      },
      "outputs": [],
      "source": [
        "import pandas as pnd\n",
        "import numpy as nmp\n",
        "import matplotlib.pyplot as mplt\n",
        "import seaborn as sb"
      ]
    },
    {
      "cell_type": "markdown",
      "id": "16968f04",
      "metadata": {
        "id": "16968f04",
        "papermill": {
          "duration": 0.051019,
          "end_time": "2021-09-29T03:54:51.078085",
          "exception": false,
          "start_time": "2021-09-29T03:54:51.027066",
          "status": "completed"
        },
        "tags": []
      },
      "source": [
        "### Reading the train, test, validations of ogling dataset."
      ]
    },
    {
      "cell_type": "code",
      "execution_count": 4,
      "id": "7d200128",
      "metadata": {
        "execution": {
          "iopub.execute_input": "2021-09-29T03:54:51.184616Z",
          "iopub.status.busy": "2021-09-29T03:54:51.183908Z",
          "iopub.status.idle": "2021-09-29T03:54:51.262647Z",
          "shell.execute_reply": "2021-09-29T03:54:51.262188Z",
          "shell.execute_reply.started": "2021-09-29T03:13:55.521187Z"
        },
        "id": "7d200128",
        "papermill": {
          "duration": 0.133607,
          "end_time": "2021-09-29T03:54:51.262762",
          "exception": false,
          "start_time": "2021-09-29T03:54:51.129155",
          "status": "completed"
        },
        "tags": []
      },
      "outputs": [],
      "source": [
        "ogling_train = pnd.read_csv('/otrain.csv')\n",
        "ogling_test = pnd.read_csv('/otest.csv')\n",
        "ogling_valid = pnd.read_csv('/odev.csv')"
      ]
    },
    {
      "cell_type": "markdown",
      "id": "a55c3332",
      "metadata": {
        "id": "a55c3332"
      },
      "source": [
        "### Printing the datasets."
      ]
    },
    {
      "cell_type": "code",
      "execution_count": 5,
      "id": "eb71bbad",
      "metadata": {
        "colab": {
          "base_uri": "https://localhost:8080/",
          "height": 666
        },
        "id": "eb71bbad",
        "outputId": "fc2ee5c9-7462-4764-fbbb-f042c92dc250"
      },
      "outputs": [
        {
          "output_type": "stream",
          "name": "stdout",
          "text": [
            "                                            Description  Category\n",
            "0     Was walking along crowded street, holding mums...         0\n",
            "1     This incident took place in the evening.I was ...         1\n",
            "2     I WAS WAITING FOR THE BUS. A MAN CAME ON A BIK...         0\n",
            "3                    Incident happened inside the train         0\n",
            "4     I witnessed an incident when a chain was bruta...         0\n",
            "...                                                 ...       ...\n",
            "7196  There was this person near a construction site...         1\n",
            "7197  He threatened me by making inappropriate conve...         0\n",
            "7198  happened during morning at university metro st...         0\n",
            "7199  one day my aunt was returniec frm office .. sh...         0\n",
            "7200                   was victim of sxual assault RAPE         0\n",
            "\n",
            "[7201 rows x 2 columns]\n"
          ]
        },
        {
          "output_type": "execute_result",
          "data": {
            "text/plain": [
              "                                           Description  Category\n",
              "0    Buses approaching to this place is highly unsafe.         0\n",
              "1                          a man was commenting at me.         0\n",
              "2                                      in a share auto         0\n",
              "3    I was coming out of a club at night with a few...         0\n",
              "4    One of my friends was molested in the crowd. T...         0\n",
              "..                                                 ...       ...\n",
              "985  I was returning to my home riding a bicycle wh...         0\n",
              "986  two boys on a bike commented and abused my fri...         0\n",
              "987  During evening , a guy showed me a middle fing...         0\n",
              "988  It was a evening time two very young boys were...         0\n",
              "989   Tried to touch my breast with his elbow and hand         0\n",
              "\n",
              "[990 rows x 2 columns]"
            ],
            "text/html": [
              "\n",
              "  <div id=\"df-344d765d-db2c-4a0f-85f9-5997f6e9f1d5\">\n",
              "    <div class=\"colab-df-container\">\n",
              "      <div>\n",
              "<style scoped>\n",
              "    .dataframe tbody tr th:only-of-type {\n",
              "        vertical-align: middle;\n",
              "    }\n",
              "\n",
              "    .dataframe tbody tr th {\n",
              "        vertical-align: top;\n",
              "    }\n",
              "\n",
              "    .dataframe thead th {\n",
              "        text-align: right;\n",
              "    }\n",
              "</style>\n",
              "<table border=\"1\" class=\"dataframe\">\n",
              "  <thead>\n",
              "    <tr style=\"text-align: right;\">\n",
              "      <th></th>\n",
              "      <th>Description</th>\n",
              "      <th>Category</th>\n",
              "    </tr>\n",
              "  </thead>\n",
              "  <tbody>\n",
              "    <tr>\n",
              "      <th>0</th>\n",
              "      <td>Buses approaching to this place is highly unsafe.</td>\n",
              "      <td>0</td>\n",
              "    </tr>\n",
              "    <tr>\n",
              "      <th>1</th>\n",
              "      <td>a man was commenting at me.</td>\n",
              "      <td>0</td>\n",
              "    </tr>\n",
              "    <tr>\n",
              "      <th>2</th>\n",
              "      <td>in a share auto</td>\n",
              "      <td>0</td>\n",
              "    </tr>\n",
              "    <tr>\n",
              "      <th>3</th>\n",
              "      <td>I was coming out of a club at night with a few...</td>\n",
              "      <td>0</td>\n",
              "    </tr>\n",
              "    <tr>\n",
              "      <th>4</th>\n",
              "      <td>One of my friends was molested in the crowd. T...</td>\n",
              "      <td>0</td>\n",
              "    </tr>\n",
              "    <tr>\n",
              "      <th>...</th>\n",
              "      <td>...</td>\n",
              "      <td>...</td>\n",
              "    </tr>\n",
              "    <tr>\n",
              "      <th>985</th>\n",
              "      <td>I was returning to my home riding a bicycle wh...</td>\n",
              "      <td>0</td>\n",
              "    </tr>\n",
              "    <tr>\n",
              "      <th>986</th>\n",
              "      <td>two boys on a bike commented and abused my fri...</td>\n",
              "      <td>0</td>\n",
              "    </tr>\n",
              "    <tr>\n",
              "      <th>987</th>\n",
              "      <td>During evening , a guy showed me a middle fing...</td>\n",
              "      <td>0</td>\n",
              "    </tr>\n",
              "    <tr>\n",
              "      <th>988</th>\n",
              "      <td>It was a evening time two very young boys were...</td>\n",
              "      <td>0</td>\n",
              "    </tr>\n",
              "    <tr>\n",
              "      <th>989</th>\n",
              "      <td>Tried to touch my breast with his elbow and hand</td>\n",
              "      <td>0</td>\n",
              "    </tr>\n",
              "  </tbody>\n",
              "</table>\n",
              "<p>990 rows × 2 columns</p>\n",
              "</div>\n",
              "      <button class=\"colab-df-convert\" onclick=\"convertToInteractive('df-344d765d-db2c-4a0f-85f9-5997f6e9f1d5')\"\n",
              "              title=\"Convert this dataframe to an interactive table.\"\n",
              "              style=\"display:none;\">\n",
              "        \n",
              "  <svg xmlns=\"http://www.w3.org/2000/svg\" height=\"24px\"viewBox=\"0 0 24 24\"\n",
              "       width=\"24px\">\n",
              "    <path d=\"M0 0h24v24H0V0z\" fill=\"none\"/>\n",
              "    <path d=\"M18.56 5.44l.94 2.06.94-2.06 2.06-.94-2.06-.94-.94-2.06-.94 2.06-2.06.94zm-11 1L8.5 8.5l.94-2.06 2.06-.94-2.06-.94L8.5 2.5l-.94 2.06-2.06.94zm10 10l.94 2.06.94-2.06 2.06-.94-2.06-.94-.94-2.06-.94 2.06-2.06.94z\"/><path d=\"M17.41 7.96l-1.37-1.37c-.4-.4-.92-.59-1.43-.59-.52 0-1.04.2-1.43.59L10.3 9.45l-7.72 7.72c-.78.78-.78 2.05 0 2.83L4 21.41c.39.39.9.59 1.41.59.51 0 1.02-.2 1.41-.59l7.78-7.78 2.81-2.81c.8-.78.8-2.07 0-2.86zM5.41 20L4 18.59l7.72-7.72 1.47 1.35L5.41 20z\"/>\n",
              "  </svg>\n",
              "      </button>\n",
              "      \n",
              "  <style>\n",
              "    .colab-df-container {\n",
              "      display:flex;\n",
              "      flex-wrap:wrap;\n",
              "      gap: 12px;\n",
              "    }\n",
              "\n",
              "    .colab-df-convert {\n",
              "      background-color: #E8F0FE;\n",
              "      border: none;\n",
              "      border-radius: 50%;\n",
              "      cursor: pointer;\n",
              "      display: none;\n",
              "      fill: #1967D2;\n",
              "      height: 32px;\n",
              "      padding: 0 0 0 0;\n",
              "      width: 32px;\n",
              "    }\n",
              "\n",
              "    .colab-df-convert:hover {\n",
              "      background-color: #E2EBFA;\n",
              "      box-shadow: 0px 1px 2px rgba(60, 64, 67, 0.3), 0px 1px 3px 1px rgba(60, 64, 67, 0.15);\n",
              "      fill: #174EA6;\n",
              "    }\n",
              "\n",
              "    [theme=dark] .colab-df-convert {\n",
              "      background-color: #3B4455;\n",
              "      fill: #D2E3FC;\n",
              "    }\n",
              "\n",
              "    [theme=dark] .colab-df-convert:hover {\n",
              "      background-color: #434B5C;\n",
              "      box-shadow: 0px 1px 3px 1px rgba(0, 0, 0, 0.15);\n",
              "      filter: drop-shadow(0px 1px 2px rgba(0, 0, 0, 0.3));\n",
              "      fill: #FFFFFF;\n",
              "    }\n",
              "  </style>\n",
              "\n",
              "      <script>\n",
              "        const buttonEl =\n",
              "          document.querySelector('#df-344d765d-db2c-4a0f-85f9-5997f6e9f1d5 button.colab-df-convert');\n",
              "        buttonEl.style.display =\n",
              "          google.colab.kernel.accessAllowed ? 'block' : 'none';\n",
              "\n",
              "        async function convertToInteractive(key) {\n",
              "          const element = document.querySelector('#df-344d765d-db2c-4a0f-85f9-5997f6e9f1d5');\n",
              "          const dataTable =\n",
              "            await google.colab.kernel.invokeFunction('convertToInteractive',\n",
              "                                                     [key], {});\n",
              "          if (!dataTable) return;\n",
              "\n",
              "          const docLinkHtml = 'Like what you see? Visit the ' +\n",
              "            '<a target=\"_blank\" href=https://colab.research.google.com/notebooks/data_table.ipynb>data table notebook</a>'\n",
              "            + ' to learn more about interactive tables.';\n",
              "          element.innerHTML = '';\n",
              "          dataTable['output_type'] = 'display_data';\n",
              "          await google.colab.output.renderOutput(dataTable, element);\n",
              "          const docLink = document.createElement('div');\n",
              "          docLink.innerHTML = docLinkHtml;\n",
              "          element.appendChild(docLink);\n",
              "        }\n",
              "      </script>\n",
              "    </div>\n",
              "  </div>\n",
              "  "
            ]
          },
          "metadata": {},
          "execution_count": 5
        }
      ],
      "source": [
        "print(ogling_train)\n",
        "ogling_test \n",
        "ogling_valid "
      ]
    },
    {
      "cell_type": "markdown",
      "id": "fa2b3c43",
      "metadata": {
        "id": "fa2b3c43"
      },
      "source": [
        "### Function to length of description field."
      ]
    },
    {
      "cell_type": "code",
      "execution_count": 6,
      "id": "2b02145a",
      "metadata": {
        "execution": {
          "iopub.execute_input": "2021-09-29T03:54:51.370655Z",
          "iopub.status.busy": "2021-09-29T03:54:51.369702Z",
          "iopub.status.idle": "2021-09-29T03:54:51.372431Z",
          "shell.execute_reply": "2021-09-29T03:54:51.371872Z",
          "shell.execute_reply.started": "2021-09-29T03:13:55.549348Z"
        },
        "papermill": {
          "duration": 0.058356,
          "end_time": "2021-09-29T03:54:51.372543",
          "exception": false,
          "start_time": "2021-09-29T03:54:51.314187",
          "status": "completed"
        },
        "tags": [],
        "id": "2b02145a"
      },
      "outputs": [],
      "source": [
        "def append_len(data):\n",
        "  s = []\n",
        "  for i in data['Description']:\n",
        "      s.append(len(i))\n",
        "  return s"
      ]
    },
    {
      "cell_type": "markdown",
      "id": "6bf2864d",
      "metadata": {
        "id": "6bf2864d"
      },
      "source": [
        "### Viewing the first 5 columns of the training dataset."
      ]
    },
    {
      "cell_type": "code",
      "execution_count": 7,
      "id": "f4ad4fcd",
      "metadata": {
        "execution": {
          "iopub.execute_input": "2021-09-29T03:54:51.515906Z",
          "iopub.status.busy": "2021-09-29T03:54:51.515329Z",
          "iopub.status.idle": "2021-09-29T03:54:51.529524Z",
          "shell.execute_reply": "2021-09-29T03:54:51.529105Z",
          "shell.execute_reply.started": "2021-09-29T03:13:55.555786Z"
        },
        "id": "f4ad4fcd",
        "outputId": "c05e463d-c610-4c7d-b63f-e3f7af93820a",
        "papermill": {
          "duration": 0.105687,
          "end_time": "2021-09-29T03:54:51.529653",
          "exception": false,
          "start_time": "2021-09-29T03:54:51.423966",
          "status": "completed"
        },
        "tags": [],
        "colab": {
          "base_uri": "https://localhost:8080/",
          "height": 206
        }
      },
      "outputs": [
        {
          "output_type": "execute_result",
          "data": {
            "text/plain": [
              "                                         Description  Category\n",
              "0  Was walking along crowded street, holding mums...         0\n",
              "1  This incident took place in the evening.I was ...         1\n",
              "2  I WAS WAITING FOR THE BUS. A MAN CAME ON A BIK...         0\n",
              "3                 Incident happened inside the train         0\n",
              "4  I witnessed an incident when a chain was bruta...         0"
            ],
            "text/html": [
              "\n",
              "  <div id=\"df-a07d0d5f-3094-4c7e-8009-06f62e698a38\">\n",
              "    <div class=\"colab-df-container\">\n",
              "      <div>\n",
              "<style scoped>\n",
              "    .dataframe tbody tr th:only-of-type {\n",
              "        vertical-align: middle;\n",
              "    }\n",
              "\n",
              "    .dataframe tbody tr th {\n",
              "        vertical-align: top;\n",
              "    }\n",
              "\n",
              "    .dataframe thead th {\n",
              "        text-align: right;\n",
              "    }\n",
              "</style>\n",
              "<table border=\"1\" class=\"dataframe\">\n",
              "  <thead>\n",
              "    <tr style=\"text-align: right;\">\n",
              "      <th></th>\n",
              "      <th>Description</th>\n",
              "      <th>Category</th>\n",
              "    </tr>\n",
              "  </thead>\n",
              "  <tbody>\n",
              "    <tr>\n",
              "      <th>0</th>\n",
              "      <td>Was walking along crowded street, holding mums...</td>\n",
              "      <td>0</td>\n",
              "    </tr>\n",
              "    <tr>\n",
              "      <th>1</th>\n",
              "      <td>This incident took place in the evening.I was ...</td>\n",
              "      <td>1</td>\n",
              "    </tr>\n",
              "    <tr>\n",
              "      <th>2</th>\n",
              "      <td>I WAS WAITING FOR THE BUS. A MAN CAME ON A BIK...</td>\n",
              "      <td>0</td>\n",
              "    </tr>\n",
              "    <tr>\n",
              "      <th>3</th>\n",
              "      <td>Incident happened inside the train</td>\n",
              "      <td>0</td>\n",
              "    </tr>\n",
              "    <tr>\n",
              "      <th>4</th>\n",
              "      <td>I witnessed an incident when a chain was bruta...</td>\n",
              "      <td>0</td>\n",
              "    </tr>\n",
              "  </tbody>\n",
              "</table>\n",
              "</div>\n",
              "      <button class=\"colab-df-convert\" onclick=\"convertToInteractive('df-a07d0d5f-3094-4c7e-8009-06f62e698a38')\"\n",
              "              title=\"Convert this dataframe to an interactive table.\"\n",
              "              style=\"display:none;\">\n",
              "        \n",
              "  <svg xmlns=\"http://www.w3.org/2000/svg\" height=\"24px\"viewBox=\"0 0 24 24\"\n",
              "       width=\"24px\">\n",
              "    <path d=\"M0 0h24v24H0V0z\" fill=\"none\"/>\n",
              "    <path d=\"M18.56 5.44l.94 2.06.94-2.06 2.06-.94-2.06-.94-.94-2.06-.94 2.06-2.06.94zm-11 1L8.5 8.5l.94-2.06 2.06-.94-2.06-.94L8.5 2.5l-.94 2.06-2.06.94zm10 10l.94 2.06.94-2.06 2.06-.94-2.06-.94-.94-2.06-.94 2.06-2.06.94z\"/><path d=\"M17.41 7.96l-1.37-1.37c-.4-.4-.92-.59-1.43-.59-.52 0-1.04.2-1.43.59L10.3 9.45l-7.72 7.72c-.78.78-.78 2.05 0 2.83L4 21.41c.39.39.9.59 1.41.59.51 0 1.02-.2 1.41-.59l7.78-7.78 2.81-2.81c.8-.78.8-2.07 0-2.86zM5.41 20L4 18.59l7.72-7.72 1.47 1.35L5.41 20z\"/>\n",
              "  </svg>\n",
              "      </button>\n",
              "      \n",
              "  <style>\n",
              "    .colab-df-container {\n",
              "      display:flex;\n",
              "      flex-wrap:wrap;\n",
              "      gap: 12px;\n",
              "    }\n",
              "\n",
              "    .colab-df-convert {\n",
              "      background-color: #E8F0FE;\n",
              "      border: none;\n",
              "      border-radius: 50%;\n",
              "      cursor: pointer;\n",
              "      display: none;\n",
              "      fill: #1967D2;\n",
              "      height: 32px;\n",
              "      padding: 0 0 0 0;\n",
              "      width: 32px;\n",
              "    }\n",
              "\n",
              "    .colab-df-convert:hover {\n",
              "      background-color: #E2EBFA;\n",
              "      box-shadow: 0px 1px 2px rgba(60, 64, 67, 0.3), 0px 1px 3px 1px rgba(60, 64, 67, 0.15);\n",
              "      fill: #174EA6;\n",
              "    }\n",
              "\n",
              "    [theme=dark] .colab-df-convert {\n",
              "      background-color: #3B4455;\n",
              "      fill: #D2E3FC;\n",
              "    }\n",
              "\n",
              "    [theme=dark] .colab-df-convert:hover {\n",
              "      background-color: #434B5C;\n",
              "      box-shadow: 0px 1px 3px 1px rgba(0, 0, 0, 0.15);\n",
              "      filter: drop-shadow(0px 1px 2px rgba(0, 0, 0, 0.3));\n",
              "      fill: #FFFFFF;\n",
              "    }\n",
              "  </style>\n",
              "\n",
              "      <script>\n",
              "        const buttonEl =\n",
              "          document.querySelector('#df-a07d0d5f-3094-4c7e-8009-06f62e698a38 button.colab-df-convert');\n",
              "        buttonEl.style.display =\n",
              "          google.colab.kernel.accessAllowed ? 'block' : 'none';\n",
              "\n",
              "        async function convertToInteractive(key) {\n",
              "          const element = document.querySelector('#df-a07d0d5f-3094-4c7e-8009-06f62e698a38');\n",
              "          const dataTable =\n",
              "            await google.colab.kernel.invokeFunction('convertToInteractive',\n",
              "                                                     [key], {});\n",
              "          if (!dataTable) return;\n",
              "\n",
              "          const docLinkHtml = 'Like what you see? Visit the ' +\n",
              "            '<a target=\"_blank\" href=https://colab.research.google.com/notebooks/data_table.ipynb>data table notebook</a>'\n",
              "            + ' to learn more about interactive tables.';\n",
              "          element.innerHTML = '';\n",
              "          dataTable['output_type'] = 'display_data';\n",
              "          await google.colab.output.renderOutput(dataTable, element);\n",
              "          const docLink = document.createElement('div');\n",
              "          docLink.innerHTML = docLinkHtml;\n",
              "          element.appendChild(docLink);\n",
              "        }\n",
              "      </script>\n",
              "    </div>\n",
              "  </div>\n",
              "  "
            ]
          },
          "metadata": {},
          "execution_count": 7
        }
      ],
      "source": [
        "ogling_train.head(5)"
      ]
    },
    {
      "cell_type": "markdown",
      "id": "f8d3dd15",
      "metadata": {
        "id": "f8d3dd15"
      },
      "source": [
        "### Calculating the length of the train, test, validation dataset."
      ]
    },
    {
      "cell_type": "code",
      "execution_count": 8,
      "id": "c32e4b03",
      "metadata": {
        "execution": {
          "iopub.execute_input": "2021-09-29T03:54:51.640486Z",
          "iopub.status.busy": "2021-09-29T03:54:51.639782Z",
          "iopub.status.idle": "2021-09-29T03:54:51.642731Z",
          "shell.execute_reply": "2021-09-29T03:54:51.643158Z",
          "shell.execute_reply.started": "2021-09-29T03:13:55.570258Z"
        },
        "id": "c32e4b03",
        "outputId": "a5c45f59-c092-46ab-b2de-4ec526c7aa5c",
        "papermill": {
          "duration": 0.060259,
          "end_time": "2021-09-29T03:54:51.643282",
          "exception": false,
          "start_time": "2021-09-29T03:54:51.583023",
          "status": "completed"
        },
        "tags": [],
        "colab": {
          "base_uri": "https://localhost:8080/"
        }
      },
      "outputs": [
        {
          "output_type": "stream",
          "name": "stdout",
          "text": [
            "\n",
            " Length of \n",
            " train dataset is 7201, \n",
            " test dataset is 1701, \n",
            " validation data is 990\n"
          ]
        }
      ],
      "source": [
        "print('\\n Length of \\n train dataset is {}, \\n test dataset is {}, \\n validation data is {}'.format(len(ogling_train),len(ogling_test),len(ogling_valid)))"
      ]
    },
    {
      "cell_type": "markdown",
      "id": "ffbfe42b",
      "metadata": {
        "id": "ffbfe42b"
      },
      "source": [
        "### Function to calculate average sentence length of description field."
      ]
    },
    {
      "cell_type": "code",
      "execution_count": 9,
      "id": "2cab04c3",
      "metadata": {
        "execution": {
          "iopub.execute_input": "2021-09-29T03:54:51.749563Z",
          "iopub.status.busy": "2021-09-29T03:54:51.748752Z",
          "iopub.status.idle": "2021-09-29T03:54:51.753656Z",
          "shell.execute_reply": "2021-09-29T03:54:51.753232Z",
          "shell.execute_reply.started": "2021-09-29T03:13:55.579551Z"
        },
        "id": "2cab04c3",
        "papermill": {
          "duration": 0.058951,
          "end_time": "2021-09-29T03:54:51.753758",
          "exception": false,
          "start_time": "2021-09-29T03:54:51.694807",
          "status": "completed"
        },
        "tags": []
      },
      "outputs": [],
      "source": [
        "def calculate_len(data):\n",
        "  m = 0\n",
        "  for i in data['Description']:\n",
        "      m += len(i) \n",
        "  return (m/len(data))   "
      ]
    },
    {
      "cell_type": "markdown",
      "id": "c021bbb7",
      "metadata": {
        "id": "c021bbb7"
      },
      "source": [
        "### Output of the above function with training, testing, validation dataset."
      ]
    },
    {
      "cell_type": "code",
      "execution_count": 10,
      "id": "6f86015c",
      "metadata": {
        "execution": {
          "iopub.execute_input": "2021-09-29T03:54:51.880029Z",
          "iopub.status.busy": "2021-09-29T03:54:51.879068Z",
          "iopub.status.idle": "2021-09-29T03:54:51.891712Z",
          "shell.execute_reply": "2021-09-29T03:54:51.893454Z",
          "shell.execute_reply.started": "2021-09-29T03:13:55.587327Z"
        },
        "id": "6f86015c",
        "outputId": "1f28844e-5da0-45fb-e779-9a8a22a4a1e7",
        "papermill": {
          "duration": 0.08811,
          "end_time": "2021-09-29T03:54:51.893602",
          "exception": false,
          "start_time": "2021-09-29T03:54:51.805492",
          "status": "completed"
        },
        "tags": [],
        "colab": {
          "base_uri": "https://localhost:8080/"
        }
      },
      "outputs": [
        {
          "output_type": "stream",
          "name": "stdout",
          "text": [
            "\n",
            " Average Length of Description \n",
            " train dataset is 124.02735731148452, \n",
            " test dataset is 119.8559670781893, \n",
            " validation data is 114.04646464646464\n"
          ]
        }
      ],
      "source": [
        "print('\\n Average Length of Description \\n train dataset is {}, \\n test dataset is {}, \\n validation data is {}'.format(calculate_len(ogling_train),calculate_len(ogling_test),calculate_len(ogling_valid)))"
      ]
    },
    {
      "cell_type": "markdown",
      "id": "5c115dbd",
      "metadata": {
        "id": "5c115dbd"
      },
      "source": [
        "### Visuialising the 2 categories of sexual harassment present or not in the train, test, validation datasets."
      ]
    },
    {
      "cell_type": "code",
      "execution_count": 11,
      "id": "414e4bda",
      "metadata": {
        "colab": {
          "base_uri": "https://localhost:8080/",
          "height": 468
        },
        "id": "414e4bda",
        "outputId": "740d1055-672d-478c-c49f-9e2da64d5d57"
      },
      "outputs": [
        {
          "output_type": "execute_result",
          "data": {
            "text/plain": [
              "Text(0.5, 1.0, 'Valid Dataset')"
            ]
          },
          "metadata": {},
          "execution_count": 11
        },
        {
          "output_type": "display_data",
          "data": {
            "text/plain": [
              "<Figure size 640x480 with 3 Axes>"
            ],
            "image/png": "[encoded data removed]"
          },
          "metadata": {}
        }
      ],
      "source": [
        "from matplotlib.pyplot import figure\n",
        "figure(figsize=(8, 6), dpi=80)\n",
        "mplt.subplot(311)\n",
        "ax1 = sb.countplot(x=\"Category\", data=ogling_train, color=\"red\")\n",
        "ax1.set_title('Train Dataset')\n",
        "mplt.subplot(312)\n",
        "ax2 = sb.countplot(x=\"Category\", data=ogling_test, color=\"green\")\n",
        "ax2.set_title('Test Dataset')\n",
        "mplt.subplot(313)\n",
        "ax3 = sb.countplot(x=\"Category\", data=ogling_valid,color=\"blue\")\n",
        "ax3.set_title('Valid Dataset')"
      ]
    },
    {
      "cell_type": "markdown",
      "id": "0153015f",
      "metadata": {
        "id": "0153015f"
      },
      "source": [
        "### As the data is highly imbalanced checking for the duplicates, count in the training dataset."
      ]
    },
    {
      "cell_type": "code",
      "execution_count": 12,
      "id": "4212835d",
      "metadata": {
        "execution": {
          "iopub.execute_input": "2021-09-29T03:54:52.627300Z",
          "iopub.status.busy": "2021-09-29T03:54:52.626574Z",
          "iopub.status.idle": "2021-09-29T03:54:52.638856Z",
          "shell.execute_reply": "2021-09-29T03:54:52.638229Z",
          "shell.execute_reply.started": "2021-09-29T03:13:55.979752Z"
        },
        "id": "4212835d",
        "outputId": "f8f8ebae-4939-4b5e-ff38-c4a5d252c9c9",
        "papermill": {
          "duration": 0.07154,
          "end_time": "2021-09-29T03:54:52.639013",
          "exception": false,
          "start_time": "2021-09-29T03:54:52.567473",
          "status": "completed"
        },
        "tags": [],
        "colab": {
          "base_uri": "https://localhost:8080/"
        }
      },
      "outputs": [
        {
          "output_type": "stream",
          "name": "stdout",
          "text": [
            "Duplicate row number: 500 \n",
            "Duplicate:rows:\n",
            "                                             Description  Category\n",
            "139                                          harassment         0\n",
            "199                                          misbehaved         0\n",
            "288                                          harassment         1\n",
            "367                                          misbehaved         0\n",
            "388   This survey is carried out by safecity (Red do...         1\n",
            "...                                                 ...       ...\n",
            "7119                                         misbehaved         0\n",
            "7150                                happened in morning         0\n",
            "7175                                         misbehaved         1\n",
            "7182                            harrased in the evening         0\n",
            "7184  When I was 9 years old I was sexually harassed...         0\n",
            "\n",
            "[500 rows x 2 columns]\n"
          ]
        }
      ],
      "source": [
        "def checking_for_the_duplicates(data):\n",
        "  df = data[data.duplicated()]\n",
        "  return df, len(df)\n",
        "\n",
        "tr_dup, count = checking_for_the_duplicates(ogling_train)\n",
        "print('Duplicate row number:', count, '\\nDuplicate:rows:\\n', tr_dup)\n"
      ]
    },
    {
      "cell_type": "markdown",
      "id": "8b5dd181",
      "metadata": {
        "id": "8b5dd181",
        "papermill": {
          "duration": 0.052216,
          "end_time": "2021-09-29T03:54:52.744332",
          "exception": false,
          "start_time": "2021-09-29T03:54:52.692116",
          "status": "completed"
        },
        "tags": []
      },
      "source": [
        "We not only have duplicate data but also the category for these datasets is different at different occurences.\n",
        "\n",
        "For example:- at index 139:- harassment has category 0\n",
        "\n",
        "and at 288 :- harassment has category 1\n",
        "\n",
        "This looks like erroneous data which would likely needed to be removed. "
      ]
    },
    {
      "cell_type": "markdown",
      "id": "47bb0f6c",
      "metadata": {
        "id": "47bb0f6c"
      },
      "source": [
        "### Checking for the duplicates, count in the testing dataset."
      ]
    },
    {
      "cell_type": "code",
      "execution_count": 13,
      "id": "d0260824",
      "metadata": {
        "execution": {
          "iopub.execute_input": "2021-09-29T03:54:52.854230Z",
          "iopub.status.busy": "2021-09-29T03:54:52.853425Z",
          "iopub.status.idle": "2021-09-29T03:54:52.861952Z",
          "shell.execute_reply": "2021-09-29T03:54:52.862445Z",
          "shell.execute_reply.started": "2021-09-29T03:13:55.997964Z"
        },
        "id": "d0260824",
        "outputId": "8144183a-b63c-4a23-b06f-8fe05253b482",
        "papermill": {
          "duration": 0.065726,
          "end_time": "2021-09-29T03:54:52.862569",
          "exception": false,
          "start_time": "2021-09-29T03:54:52.796843",
          "status": "completed"
        },
        "tags": [],
        "colab": {
          "base_uri": "https://localhost:8080/"
        }
      },
      "outputs": [
        {
          "output_type": "stream",
          "name": "stdout",
          "text": [
            "Duplicate row number 81 \n",
            "Duplicate:rows:\n",
            "                                             Description  Category\n",
            "99          I was standing when a neighbour spanked me.         0\n",
            "101                                          harassment         0\n",
            "150                                          harassment         0\n",
            "165                                   Touching, groping         0\n",
            "270                                  it was really bad.         0\n",
            "...                                                 ...       ...\n",
            "1606                                           stalking         0\n",
            "1630                                         harassment         1\n",
            "1636  This survey is carried out by safecity (Red Do...         1\n",
            "1637                                 it was really bad.         1\n",
            "1663                                    chain snatching         0\n",
            "\n",
            "[81 rows x 2 columns]\n"
          ]
        }
      ],
      "source": [
        "te_dup, count = checking_for_the_duplicates(ogling_test)\n",
        "print('Duplicate row number', count, '\\nDuplicate:rows:\\n', te_dup)"
      ]
    },
    {
      "cell_type": "code",
      "execution_count": 14,
      "id": "876b3884",
      "metadata": {
        "execution": {
          "iopub.execute_input": "2021-09-29T03:54:52.973337Z",
          "iopub.status.busy": "2021-09-29T03:54:52.972455Z",
          "iopub.status.idle": "2021-09-29T03:54:52.980442Z",
          "shell.execute_reply": "2021-09-29T03:54:52.981095Z",
          "shell.execute_reply.started": "2021-09-29T03:13:56.011736Z"
        },
        "id": "876b3884",
        "outputId": "b6745d79-3a19-485a-8c2c-8bc2da547351",
        "papermill": {
          "duration": 0.065608,
          "end_time": "2021-09-29T03:54:52.981253",
          "exception": false,
          "start_time": "2021-09-29T03:54:52.915645",
          "status": "completed"
        },
        "tags": [],
        "colab": {
          "base_uri": "https://localhost:8080/"
        }
      },
      "outputs": [
        {
          "output_type": "stream",
          "name": "stdout",
          "text": [
            "Duplicates number 44\n",
            "                                           Description  Category\n",
            "54                                  it was really bad.         1\n",
            "128                                         harassment         0\n",
            "213                                 it was really bad.         1\n",
            "267                                         harassment         0\n",
            "269                                         misbehaved         1\n",
            "270                                         misbehaved         0\n",
            "304                                         harassment         0\n",
            "352                                         harassment         0\n",
            "372                                         misbehaved         0\n",
            "377                                          following         0\n",
            "379                                         harassment         0\n",
            "396                                         misbehaved         1\n",
            "397                                         misbehaved         0\n",
            "462                                 it was really bad.         0\n",
            "563  This survey is carried out by safecity (Red do...         1\n",
            "564                                         harassment         0\n",
            "569                                         misbehaved         0\n",
            "575                                         commenting         1\n",
            "586                                         harassment         0\n",
            "611                                         harassment         0\n",
            "639  This survey is carried out by safecity (Red Do...         1\n",
            "660                                         harassment         0\n",
            "690  This survey is carried out by safecity (Red Do...         0\n",
            "700                                         misbehaved         0\n",
            "713                                         harassment         0\n",
            "715                                 it was really bad.         0\n",
            "738                                 it was really bad.         0\n",
            "757  Around 6 months back a boy followed me in the ...         0\n",
            "772                                         harassment         1\n",
            "780                                         harassment         0\n",
            "782                                 it was really bad.         0\n",
            "801  This happened with my friend around 6 months b...         0\n",
            "807                                 it was really bad.         1\n",
            "815  Touching/Groping, Commenting, Ogling, Sexual I...         1\n",
            "835                                            groping         0\n",
            "895  This survey is carried out by safecity (Red Do...         0\n",
            "899                                            staring         1\n",
            "908                                         harassment         1\n",
            "923                                 it was really bad.         1\n",
            "926                            stalking and commenting         0\n",
            "930                                         harassment         0\n",
            "938                                 it was really bad.         0\n",
            "949                                         misbehaved         1\n",
            "972                                         harassment         0\n"
          ]
        }
      ],
      "source": [
        "validation_of_duplicate,count = checking_for_the_duplicates(ogling_valid)\n",
        "print('Duplicates number',count)\n",
        "print(validation_of_duplicate)"
      ]
    },
    {
      "cell_type": "markdown",
      "id": "b860b209",
      "metadata": {
        "id": "b860b209",
        "papermill": {
          "duration": 0.052817,
          "end_time": "2021-09-29T03:54:53.193536",
          "exception": false,
          "start_time": "2021-09-29T03:54:53.140719",
          "status": "completed"
        },
        "tags": []
      },
      "source": [
        "### Commenting Dataset"
      ]
    },
    {
      "cell_type": "code",
      "execution_count": 17,
      "id": "2915403f",
      "metadata": {
        "execution": {
          "iopub.execute_input": "2021-09-29T03:54:53.303790Z",
          "iopub.status.busy": "2021-09-29T03:54:53.303138Z",
          "iopub.status.idle": "2021-09-29T03:54:53.363690Z",
          "shell.execute_reply": "2021-09-29T03:54:53.363112Z",
          "shell.execute_reply.started": "2021-09-29T03:13:56.024925Z"
        },
        "id": "2915403f",
        "papermill": {
          "duration": 0.117434,
          "end_time": "2021-09-29T03:54:53.363818",
          "exception": false,
          "start_time": "2021-09-29T03:54:53.246384",
          "status": "completed"
        },
        "tags": []
      },
      "outputs": [],
      "source": [
        "com_f_tra = pnd.read_csv('/ctrain.csv')\n",
        "com_f_tes = pnd.read_csv('/ctest.csv')\n",
        "commenting_df_valid = pnd.read_csv('/cdev.csv')"
      ]
    },
    {
      "cell_type": "code",
      "execution_count": 18,
      "id": "c79d4dfe",
      "metadata": {
        "execution": {
          "iopub.execute_input": "2021-09-29T03:54:53.530815Z",
          "iopub.status.busy": "2021-09-29T03:54:53.529998Z",
          "iopub.status.idle": "2021-09-29T03:54:53.536728Z",
          "shell.execute_reply": "2021-09-29T03:54:53.537771Z",
          "shell.execute_reply.started": "2021-09-29T03:13:56.053961Z"
        },
        "id": "c79d4dfe",
        "outputId": "70587af4-e610-4583-aaf5-146463e65589",
        "papermill": {
          "duration": 0.116234,
          "end_time": "2021-09-29T03:54:53.537996",
          "exception": false,
          "start_time": "2021-09-29T03:54:53.421762",
          "status": "completed"
        },
        "tags": [],
        "colab": {
          "base_uri": "https://localhost:8080/"
        }
      },
      "outputs": [
        {
          "output_type": "stream",
          "name": "stdout",
          "text": [
            "\n",
            " Average Length of Description \n",
            " train dataset is 124.02735731148452, \n",
            " test dataset is 119.8559670781893, \n",
            " validation data is 114.04646464646464\n"
          ]
        }
      ],
      "source": [
        "print('\\n Average Length of Description \\n train dataset is {}, \\n test dataset is {}, \\n validation data is {}'.format(calculate_len(com_f_tra),calculate_len(com_f_tes),calculate_len(commenting_df_valid)))"
      ]
    },
    {
      "cell_type": "code",
      "execution_count": 19,
      "id": "31d09dbb",
      "metadata": {
        "colab": {
          "base_uri": "https://localhost:8080/",
          "height": 468
        },
        "id": "31d09dbb",
        "outputId": "28cf8943-5548-4056-b72b-900bdf159372"
      },
      "outputs": [
        {
          "output_type": "execute_result",
          "data": {
            "text/plain": [
              "Text(0.5, 1.0, 'Valid Dataset')"
            ]
          },
          "metadata": {},
          "execution_count": 19
        },
        {
          "output_type": "display_data",
          "data": {
            "text/plain": [
              "<Figure size 640x480 with 3 Axes>"
            ],
            "image/png": "[encoded data removed]"
          },
          "metadata": {}
        }
      ],
      "source": [
        "figure(figsize=(8, 6), dpi=80)\n",
        "mplt.subplot(311)\n",
        "ax1 = sb.countplot(x=\"Category\", data=com_f_tra,color=\"red\")\n",
        "ax1.set_title('Train Dataset')\n",
        "mplt.subplot(312)\n",
        "ax2 = sb.countplot(x=\"Category\", data=com_f_tes,color=\"green\")\n",
        "ax2.set_title('Test Dataset')\n",
        "mplt.subplot(313)\n",
        "ax3 = sb.countplot(x=\"Category\", data=commenting_df_valid,color=\"blue\")\n",
        "ax3.set_title('Valid Dataset')"
      ]
    },
    {
      "cell_type": "code",
      "execution_count": 20,
      "id": "80d40456",
      "metadata": {
        "execution": {
          "iopub.execute_input": "2021-09-29T03:54:54.373937Z",
          "iopub.status.busy": "2021-09-29T03:54:54.373191Z",
          "iopub.status.idle": "2021-09-29T03:54:54.394675Z",
          "shell.execute_reply": "2021-09-29T03:54:54.393874Z",
          "shell.execute_reply.started": "2021-09-29T03:13:56.411068Z"
        },
        "id": "80d40456",
        "outputId": "f2538ce2-e7b4-4fac-eee7-852ab3380fe0",
        "papermill": {
          "duration": 0.08239,
          "end_time": "2021-09-29T03:54:54.394820",
          "exception": false,
          "start_time": "2021-09-29T03:54:54.312430",
          "status": "completed"
        },
        "tags": [],
        "colab": {
          "base_uri": "https://localhost:8080/"
        }
      },
      "outputs": [
        {
          "output_type": "stream",
          "name": "stdout",
          "text": [
            "Duplicates number: 497\n",
            "                                            Description  Category\n",
            "139                                          harassment         0\n",
            "288                                          harassment         0\n",
            "367                                          misbehaved         0\n",
            "388   This survey is carried out by safecity (Red do...         1\n",
            "447                                  it was really bad.         1\n",
            "...                                                 ...       ...\n",
            "7119                                         misbehaved         1\n",
            "7150                                happened in morning         1\n",
            "7170                             Staring and commenting         1\n",
            "7175                                         misbehaved         1\n",
            "7186                                           Elbowing         0\n",
            "\n",
            "[497 rows x 2 columns]\n",
            "Duplicates number: 85\n",
            "                                            Description  Category\n",
            "99          I was standing when a neighbour spanked me.         0\n",
            "150                                          harassment         1\n",
            "162   This survey is carried out by safecity (Red Do...         1\n",
            "165                                   Touching, groping         0\n",
            "270                                  it was really bad.         1\n",
            "...                                                 ...       ...\n",
            "1620                                        Eve teasing         1\n",
            "1630                                         harassment         1\n",
            "1636  This survey is carried out by safecity (Red Do...         1\n",
            "1637                                 it was really bad.         1\n",
            "1663                                    chain snatching         0\n",
            "\n",
            "[85 rows x 2 columns]\n",
            "Duplicates number: 43\n",
            "                                           Description  Category\n",
            "54                                  it was really bad.         1\n",
            "146                                         harassment         1\n",
            "179                                 it was really bad.         1\n",
            "213                                 it was really bad.         1\n",
            "267                                         harassment         1\n",
            "269                                         misbehaved         1\n",
            "270                                         misbehaved         0\n",
            "304                                         harassment         0\n",
            "352                                         harassment         0\n",
            "372                                         misbehaved         1\n",
            "377                                          following         0\n",
            "379                                         harassment         0\n",
            "396                                         misbehaved         1\n",
            "397                                         misbehaved         1\n",
            "563  This survey is carried out by safecity (Red do...         1\n",
            "564                                         harassment         1\n",
            "569                                         misbehaved         1\n",
            "575                                         commenting         1\n",
            "586                                         harassment         1\n",
            "611                                         harassment         1\n",
            "639  This survey is carried out by safecity (Red Do...         1\n",
            "646                      It was a very bad experience.         1\n",
            "660                                         harassment         1\n",
            "690  This survey is carried out by safecity (Red Do...         1\n",
            "700                                         misbehaved         1\n",
            "713                                         harassment         0\n",
            "715                                 it was really bad.         0\n",
            "738                                 it was really bad.         1\n",
            "757  Around 6 months back a boy followed me in the ...         0\n",
            "772                                         harassment         0\n",
            "780                                         harassment         0\n",
            "782                                 it was really bad.         1\n",
            "801  This happened with my friend around 6 months b...         1\n",
            "807                                 it was really bad.         1\n",
            "815  Touching/Groping, Commenting, Ogling, Sexual I...         1\n",
            "895  This survey is carried out by safecity (Red Do...         0\n",
            "908                                         harassment         1\n",
            "923                                 it was really bad.         1\n",
            "926                            stalking and commenting         1\n",
            "930                                         harassment         1\n",
            "938                                 it was really bad.         1\n",
            "949                                         misbehaved         1\n",
            "972                                         harassment         1\n"
          ]
        }
      ],
      "source": [
        "commenting_train_duplicate,count = checking_for_the_duplicates(com_f_tra)\n",
        "print('Duplicates number:',count)\n",
        "print(commenting_train_duplicate)\n",
        "commenting_test_duplicate,count = checking_for_the_duplicates(com_f_tes)\n",
        "print('Duplicates number:',count)\n",
        "print(commenting_test_duplicate)\n",
        "commenting_valid_duplicate,count = checking_for_the_duplicates(commenting_df_valid)\n",
        "print('Duplicates number:',count)\n",
        "print(commenting_valid_duplicate)"
      ]
    },
    {
      "cell_type": "markdown",
      "id": "9a38294e",
      "metadata": {
        "id": "9a38294e",
        "papermill": {
          "duration": 0.055746,
          "end_time": "2021-09-29T03:54:54.506538",
          "exception": false,
          "start_time": "2021-09-29T03:54:54.450792",
          "status": "completed"
        },
        "tags": []
      },
      "source": []
    },
    {
      "cell_type": "markdown",
      "id": "48d43a8f",
      "metadata": {
        "id": "48d43a8f",
        "papermill": {
          "duration": 0.058566,
          "end_time": "2021-09-29T03:54:54.621034",
          "exception": false,
          "start_time": "2021-09-29T03:54:54.562468",
          "status": "completed"
        },
        "tags": []
      },
      "source": [
        "**Groping Dataset**"
      ]
    },
    {
      "cell_type": "code",
      "execution_count": 22,
      "id": "faa7a80b",
      "metadata": {
        "execution": {
          "iopub.execute_input": "2021-09-29T03:54:54.735153Z",
          "iopub.status.busy": "2021-09-29T03:54:54.734600Z",
          "iopub.status.idle": "2021-09-29T03:54:54.791117Z",
          "shell.execute_reply": "2021-09-29T03:54:54.790300Z",
          "shell.execute_reply.started": "2021-09-29T03:13:56.441797Z"
        },
        "id": "faa7a80b",
        "papermill": {
          "duration": 0.115251,
          "end_time": "2021-09-29T03:54:54.791241",
          "exception": false,
          "start_time": "2021-09-29T03:54:54.675990",
          "status": "completed"
        },
        "tags": []
      },
      "outputs": [],
      "source": [
        "groping_train = pnd.read_csv('/gtrain.csv')\n",
        "groping_test = pnd.read_csv('/gtest.csv')\n",
        "groping_valid = pnd.read_csv('/gdev.csv')"
      ]
    },
    {
      "cell_type": "code",
      "execution_count": 23,
      "id": "2082c8c2",
      "metadata": {
        "execution": {
          "iopub.execute_input": "2021-09-29T03:54:54.928805Z",
          "iopub.status.busy": "2021-09-29T03:54:54.928027Z",
          "iopub.status.idle": "2021-09-29T03:54:55.219846Z",
          "shell.execute_reply": "2021-09-29T03:54:55.219068Z",
          "shell.execute_reply.started": "2021-09-29T03:13:56.471408Z"
        },
        "id": "2082c8c2",
        "outputId": "f11b732f-388f-463f-e77d-bfae1ae5a21f",
        "papermill": {
          "duration": 0.373601,
          "end_time": "2021-09-29T03:54:55.219999",
          "exception": false,
          "start_time": "2021-09-29T03:54:54.846398",
          "status": "completed"
        },
        "tags": [],
        "colab": {
          "base_uri": "https://localhost:8080/",
          "height": 468
        }
      },
      "outputs": [
        {
          "output_type": "execute_result",
          "data": {
            "text/plain": [
              "Text(0.5, 1.0, 'Valid Dataset')"
            ]
          },
          "metadata": {},
          "execution_count": 23
        },
        {
          "output_type": "display_data",
          "data": {
            "text/plain": [
              "<Figure size 640x480 with 3 Axes>"
            ],
            "image/png": "[encoded data removed]"
          },
          "metadata": {}
        }
      ],
      "source": [
        "figure(figsize=(8, 6), dpi=80)\n",
        "mplt.subplot(311)\n",
        "ax1_grop = sb.countplot(x=\"Category\", data=groping_train, color=\"red\")\n",
        "ax1_grop.set_title('Train Dataset')\n",
        "mplt.subplot(312)\n",
        "ax2_grop = sb.countplot(x=\"Category\", data=groping_test, color=\"green\")\n",
        "ax2_grop.set_title('Test Dataset')\n",
        "mplt.subplot(313)\n",
        "ax3_grop = sb.countplot(x=\"Category\", data=groping_valid, color=\"blue\")\n",
        "ax3_grop.set_title('Valid Dataset')"
      ]
    },
    {
      "cell_type": "markdown",
      "id": "de66091d",
      "metadata": {
        "id": "de66091d",
        "papermill": {
          "duration": 0.055659,
          "end_time": "2021-09-29T03:54:55.332108",
          "exception": false,
          "start_time": "2021-09-29T03:54:55.276449",
          "status": "completed"
        },
        "tags": []
      },
      "source": [
        "Imbalanced dataset for Groping data as well"
      ]
    },
    {
      "cell_type": "code",
      "execution_count": 24,
      "id": "5093724c",
      "metadata": {
        "execution": {
          "iopub.execute_input": "2021-09-29T03:54:55.451244Z",
          "iopub.status.busy": "2021-09-29T03:54:55.450453Z",
          "iopub.status.idle": "2021-09-29T03:54:55.473660Z",
          "shell.execute_reply": "2021-09-29T03:54:55.471550Z",
          "shell.execute_reply.started": "2021-09-29T03:13:56.804231Z"
        },
        "id": "5093724c",
        "outputId": "46eecc38-9b30-4b50-87a1-82027f88fa33",
        "papermill": {
          "duration": 0.086022,
          "end_time": "2021-09-29T03:54:55.473819",
          "exception": false,
          "start_time": "2021-09-29T03:54:55.387797",
          "status": "completed"
        },
        "tags": [],
        "colab": {
          "base_uri": "https://localhost:8080/"
        }
      },
      "outputs": [
        {
          "output_type": "stream",
          "name": "stdout",
          "text": [
            "Duplicates number: 512\n",
            "                                            Description  Category\n",
            "40                                           harassment         0\n",
            "139                                          harassment         0\n",
            "367                                          misbehaved         0\n",
            "388   This survey is carried out by safecity (Red do...         1\n",
            "447                                  it was really bad.         0\n",
            "...                                                 ...       ...\n",
            "7150                                happened in morning         0\n",
            "7170                             Staring and commenting         0\n",
            "7175                                         misbehaved         0\n",
            "7184  When I was 9 years old I was sexually harassed...         0\n",
            "7186                                           Elbowing         1\n",
            "\n",
            "[512 rows x 2 columns]\n",
            "Duplicates number: 84\n",
            "                                            Description  Category\n",
            "99          I was standing when a neighbour spanked me.         1\n",
            "150                                          harassment         0\n",
            "165                                   Touching, groping         1\n",
            "257                                 happened in evening         0\n",
            "270                                  it was really bad.         0\n",
            "...                                                 ...       ...\n",
            "1606                                           stalking         0\n",
            "1630                                         harassment         0\n",
            "1636  This survey is carried out by safecity (Red Do...         1\n",
            "1637                                 it was really bad.         0\n",
            "1663                                    chain snatching         0\n",
            "\n",
            "[84 rows x 2 columns]\n",
            "Duplicates number: 46\n",
            "                                           Description  Category\n",
            "54                                  it was really bad.         0\n",
            "128                                         harassment         0\n",
            "146                                         harassment         0\n",
            "213                                 it was really bad.         0\n",
            "267                                         harassment         0\n",
            "269                                         misbehaved         1\n",
            "270                                         misbehaved         0\n",
            "352                                         harassment         1\n",
            "372                                         misbehaved         0\n",
            "377                                          following         0\n",
            "379                                         harassment         0\n",
            "396                                         misbehaved         1\n",
            "397                                         misbehaved         0\n",
            "462                                 it was really bad.         0\n",
            "466                                         commenting         0\n",
            "563  This survey is carried out by safecity (Red do...         1\n",
            "564                                         harassment         0\n",
            "569                                         misbehaved         0\n",
            "575                                         commenting         0\n",
            "585  This survey is carried out by safecity (Red Do...         0\n",
            "586                                         harassment         1\n",
            "611                                         harassment         0\n",
            "646                      It was a very bad experience.         0\n",
            "660                                         harassment         1\n",
            "690  This survey is carried out by safecity (Red Do...         0\n",
            "700                                         misbehaved         0\n",
            "713                                         harassment         0\n",
            "715                                 it was really bad.         1\n",
            "738                                 it was really bad.         0\n",
            "757  Around 6 months back a boy followed me in the ...         0\n",
            "772                                         harassment         1\n",
            "780                                         harassment         1\n",
            "782                                 it was really bad.         0\n",
            "801  This happened with my friend around 6 months b...         0\n",
            "807                                 it was really bad.         0\n",
            "815  Touching/Groping, Commenting, Ogling, Sexual I...         1\n",
            "835                                            groping         1\n",
            "895  This survey is carried out by safecity (Red Do...         1\n",
            "899                                            staring         0\n",
            "908                                         harassment         1\n",
            "923                                 it was really bad.         0\n",
            "926                            stalking and commenting         0\n",
            "930                                         harassment         1\n",
            "938                                 it was really bad.         0\n",
            "949                                         misbehaved         1\n",
            "972                                         harassment         0\n"
          ]
        }
      ],
      "source": [
        "groping_train_duplicate,count = checking_for_the_duplicates(groping_train)\n",
        "print('Duplicates number:',count)\n",
        "print(groping_train_duplicate)\n",
        "groping_test_duplicate,count = checking_for_the_duplicates(groping_test)\n",
        "print('Duplicates number:',count)\n",
        "print(groping_test_duplicate)\n",
        "groping_valid_duplicate,count = checking_for_the_duplicates(groping_valid)\n",
        "print('Duplicates number:',count)\n",
        "print(groping_valid_duplicate)"
      ]
    },
    {
      "cell_type": "markdown",
      "id": "76c04461",
      "metadata": {
        "id": "76c04461",
        "papermill": {
          "duration": 0.057152,
          "end_time": "2021-09-29T03:54:55.589284",
          "exception": false,
          "start_time": "2021-09-29T03:54:55.532132",
          "status": "completed"
        },
        "tags": []
      },
      "source": [
        "We see similar instances of duplication with different categories assigned in the train, test and validation datasets of the commenting data as well."
      ]
    },
    {
      "cell_type": "markdown",
      "id": "43e7c239",
      "metadata": {
        "id": "43e7c239",
        "papermill": {
          "duration": 0.057235,
          "end_time": "2021-09-29T03:54:55.703815",
          "exception": false,
          "start_time": "2021-09-29T03:54:55.646580",
          "status": "completed"
        },
        "tags": []
      },
      "source": [
        "**EDA for Multi label Case Study**"
      ]
    },
    {
      "cell_type": "code",
      "execution_count": 26,
      "id": "87454231",
      "metadata": {
        "execution": {
          "iopub.execute_input": "2021-09-29T03:54:55.943051Z",
          "iopub.status.busy": "2021-09-29T03:54:55.942519Z",
          "iopub.status.idle": "2021-09-29T03:54:55.975087Z",
          "shell.execute_reply": "2021-09-29T03:54:55.974616Z",
          "shell.execute_reply.started": "2021-09-29T03:13:56.840736Z"
        },
        "id": "87454231",
        "papermill": {
          "duration": 0.092997,
          "end_time": "2021-09-29T03:54:55.975199",
          "exception": false,
          "start_time": "2021-09-29T03:54:55.882202",
          "status": "completed"
        },
        "tags": []
      },
      "outputs": [],
      "source": [
        "rena = pnd.read_csv('/train.csv')"
      ]
    },
    {
      "cell_type": "code",
      "execution_count": 27,
      "id": "cd34a2fe",
      "metadata": {
        "execution": {
          "iopub.execute_input": "2021-09-29T03:54:56.092803Z",
          "iopub.status.busy": "2021-09-29T03:54:56.091713Z",
          "iopub.status.idle": "2021-09-29T03:54:56.099669Z",
          "shell.execute_reply": "2021-09-29T03:54:56.100121Z",
          "shell.execute_reply.started": "2021-09-29T03:13:56.866165Z"
        },
        "id": "cd34a2fe",
        "papermill": {
          "duration": 0.068368,
          "end_time": "2021-09-29T03:54:56.100241",
          "exception": false,
          "start_time": "2021-09-29T03:54:56.031873",
          "status": "completed"
        },
        "tags": [],
        "colab": {
          "base_uri": "https://localhost:8080/",
          "height": 206
        },
        "outputId": "be408943-a6ab-439b-8bb8-5fde79b4a267"
      },
      "outputs": [
        {
          "output_type": "execute_result",
          "data": {
            "text/plain": [
              "                                         Description  Commenting  \\\n",
              "0  Was walking along crowded street, holding mums...           0   \n",
              "1  This incident took place in the evening.I was ...           0   \n",
              "2  I WAS WAITING FOR THE BUS. A MAN CAME ON A BIK...           1   \n",
              "3                 Incident happened inside the train           0   \n",
              "4  I witnessed an incident when a chain was bruta...           0   \n",
              "\n",
              "   Ogling/Facial Expressions/Staring  Touching /Groping  \n",
              "0                                  0                  1  \n",
              "1                                  1                  0  \n",
              "2                                  0                  0  \n",
              "3                                  0                  0  \n",
              "4                                  0                  0  "
            ],
            "text/html": [
              "\n",
              "  <div id=\"df-902302ce-5c62-4ff4-9955-d59d44bafd31\">\n",
              "    <div class=\"colab-df-container\">\n",
              "      <div>\n",
              "<style scoped>\n",
              "    .dataframe tbody tr th:only-of-type {\n",
              "        vertical-align: middle;\n",
              "    }\n",
              "\n",
              "    .dataframe tbody tr th {\n",
              "        vertical-align: top;\n",
              "    }\n",
              "\n",
              "    .dataframe thead th {\n",
              "        text-align: right;\n",
              "    }\n",
              "</style>\n",
              "<table border=\"1\" class=\"dataframe\">\n",
              "  <thead>\n",
              "    <tr style=\"text-align: right;\">\n",
              "      <th></th>\n",
              "      <th>Description</th>\n",
              "      <th>Commenting</th>\n",
              "      <th>Ogling/Facial Expressions/Staring</th>\n",
              "      <th>Touching /Groping</th>\n",
              "    </tr>\n",
              "  </thead>\n",
              "  <tbody>\n",
              "    <tr>\n",
              "      <th>0</th>\n",
              "      <td>Was walking along crowded street, holding mums...</td>\n",
              "      <td>0</td>\n",
              "      <td>0</td>\n",
              "      <td>1</td>\n",
              "    </tr>\n",
              "    <tr>\n",
              "      <th>1</th>\n",
              "      <td>This incident took place in the evening.I was ...</td>\n",
              "      <td>0</td>\n",
              "      <td>1</td>\n",
              "      <td>0</td>\n",
              "    </tr>\n",
              "    <tr>\n",
              "      <th>2</th>\n",
              "      <td>I WAS WAITING FOR THE BUS. A MAN CAME ON A BIK...</td>\n",
              "      <td>1</td>\n",
              "      <td>0</td>\n",
              "      <td>0</td>\n",
              "    </tr>\n",
              "    <tr>\n",
              "      <th>3</th>\n",
              "      <td>Incident happened inside the train</td>\n",
              "      <td>0</td>\n",
              "      <td>0</td>\n",
              "      <td>0</td>\n",
              "    </tr>\n",
              "    <tr>\n",
              "      <th>4</th>\n",
              "      <td>I witnessed an incident when a chain was bruta...</td>\n",
              "      <td>0</td>\n",
              "      <td>0</td>\n",
              "      <td>0</td>\n",
              "    </tr>\n",
              "  </tbody>\n",
              "</table>\n",
              "</div>\n",
              "      <button class=\"colab-df-convert\" onclick=\"convertToInteractive('df-902302ce-5c62-4ff4-9955-d59d44bafd31')\"\n",
              "              title=\"Convert this dataframe to an interactive table.\"\n",
              "              style=\"display:none;\">\n",
              "        \n",
              "  <svg xmlns=\"http://www.w3.org/2000/svg\" height=\"24px\"viewBox=\"0 0 24 24\"\n",
              "       width=\"24px\">\n",
              "    <path d=\"M0 0h24v24H0V0z\" fill=\"none\"/>\n",
              "    <path d=\"M18.56 5.44l.94 2.06.94-2.06 2.06-.94-2.06-.94-.94-2.06-.94 2.06-2.06.94zm-11 1L8.5 8.5l.94-2.06 2.06-.94-2.06-.94L8.5 2.5l-.94 2.06-2.06.94zm10 10l.94 2.06.94-2.06 2.06-.94-2.06-.94-.94-2.06-.94 2.06-2.06.94z\"/><path d=\"M17.41 7.96l-1.37-1.37c-.4-.4-.92-.59-1.43-.59-.52 0-1.04.2-1.43.59L10.3 9.45l-7.72 7.72c-.78.78-.78 2.05 0 2.83L4 21.41c.39.39.9.59 1.41.59.51 0 1.02-.2 1.41-.59l7.78-7.78 2.81-2.81c.8-.78.8-2.07 0-2.86zM5.41 20L4 18.59l7.72-7.72 1.47 1.35L5.41 20z\"/>\n",
              "  </svg>\n",
              "      </button>\n",
              "      \n",
              "  <style>\n",
              "    .colab-df-container {\n",
              "      display:flex;\n",
              "      flex-wrap:wrap;\n",
              "      gap: 12px;\n",
              "    }\n",
              "\n",
              "    .colab-df-convert {\n",
              "      background-color: #E8F0FE;\n",
              "      border: none;\n",
              "      border-radius: 50%;\n",
              "      cursor: pointer;\n",
              "      display: none;\n",
              "      fill: #1967D2;\n",
              "      height: 32px;\n",
              "      padding: 0 0 0 0;\n",
              "      width: 32px;\n",
              "    }\n",
              "\n",
              "    .colab-df-convert:hover {\n",
              "      background-color: #E2EBFA;\n",
              "      box-shadow: 0px 1px 2px rgba(60, 64, 67, 0.3), 0px 1px 3px 1px rgba(60, 64, 67, 0.15);\n",
              "      fill: #174EA6;\n",
              "    }\n",
              "\n",
              "    [theme=dark] .colab-df-convert {\n",
              "      background-color: #3B4455;\n",
              "      fill: #D2E3FC;\n",
              "    }\n",
              "\n",
              "    [theme=dark] .colab-df-convert:hover {\n",
              "      background-color: #434B5C;\n",
              "      box-shadow: 0px 1px 3px 1px rgba(0, 0, 0, 0.15);\n",
              "      filter: drop-shadow(0px 1px 2px rgba(0, 0, 0, 0.3));\n",
              "      fill: #FFFFFF;\n",
              "    }\n",
              "  </style>\n",
              "\n",
              "      <script>\n",
              "        const buttonEl =\n",
              "          document.querySelector('#df-902302ce-5c62-4ff4-9955-d59d44bafd31 button.colab-df-convert');\n",
              "        buttonEl.style.display =\n",
              "          google.colab.kernel.accessAllowed ? 'block' : 'none';\n",
              "\n",
              "        async function convertToInteractive(key) {\n",
              "          const element = document.querySelector('#df-902302ce-5c62-4ff4-9955-d59d44bafd31');\n",
              "          const dataTable =\n",
              "            await google.colab.kernel.invokeFunction('convertToInteractive',\n",
              "                                                     [key], {});\n",
              "          if (!dataTable) return;\n",
              "\n",
              "          const docLinkHtml = 'Like what you see? Visit the ' +\n",
              "            '<a target=\"_blank\" href=https://colab.research.google.com/notebooks/data_table.ipynb>data table notebook</a>'\n",
              "            + ' to learn more about interactive tables.';\n",
              "          element.innerHTML = '';\n",
              "          dataTable['output_type'] = 'display_data';\n",
              "          await google.colab.output.renderOutput(dataTable, element);\n",
              "          const docLink = document.createElement('div');\n",
              "          docLink.innerHTML = docLinkHtml;\n",
              "          element.appendChild(docLink);\n",
              "        }\n",
              "      </script>\n",
              "    </div>\n",
              "  </div>\n",
              "  "
            ]
          },
          "metadata": {},
          "execution_count": 27
        }
      ],
      "source": [
        "rena.head(5)"
      ]
    },
    {
      "cell_type": "code",
      "execution_count": 28,
      "id": "02f673cd",
      "metadata": {
        "execution": {
          "iopub.execute_input": "2021-09-29T03:54:56.220748Z",
          "iopub.status.busy": "2021-09-29T03:54:56.219989Z",
          "iopub.status.idle": "2021-09-29T03:54:56.221958Z",
          "shell.execute_reply": "2021-09-29T03:54:56.222351Z",
          "shell.execute_reply.started": "2021-09-29T03:13:56.878885Z"
        },
        "id": "02f673cd",
        "papermill": {
          "duration": 0.065151,
          "end_time": "2021-09-29T03:54:56.222475",
          "exception": false,
          "start_time": "2021-09-29T03:54:56.157324",
          "status": "completed"
        },
        "tags": []
      },
      "outputs": [],
      "source": [
        "\n",
        "rena = rena.rename(columns={'Ogling/Facial Expressions/Staring':'Ogling'})\n",
        "rena = rena.rename(columns={'Touching /Groping':'Groping'})\n"
      ]
    },
    {
      "cell_type": "code",
      "execution_count": 29,
      "id": "2228a300",
      "metadata": {
        "execution": {
          "iopub.execute_input": "2021-09-29T03:54:56.346235Z",
          "iopub.status.busy": "2021-09-29T03:54:56.340783Z",
          "iopub.status.idle": "2021-09-29T03:54:56.348895Z",
          "shell.execute_reply": "2021-09-29T03:54:56.349423Z",
          "shell.execute_reply.started": "2021-09-29T03:13:56.886560Z"
        },
        "id": "2228a300",
        "papermill": {
          "duration": 0.070476,
          "end_time": "2021-09-29T03:54:56.349547",
          "exception": false,
          "start_time": "2021-09-29T03:54:56.279071",
          "status": "completed"
        },
        "tags": [],
        "colab": {
          "base_uri": "https://localhost:8080/",
          "height": 206
        },
        "outputId": "7f460354-cff0-4706-e7e7-d3087f60e3a8"
      },
      "outputs": [
        {
          "output_type": "execute_result",
          "data": {
            "text/plain": [
              "                                         Description  Commenting  Ogling  \\\n",
              "0  Was walking along crowded street, holding mums...           0       0   \n",
              "1  This incident took place in the evening.I was ...           0       1   \n",
              "2  I WAS WAITING FOR THE BUS. A MAN CAME ON A BIK...           1       0   \n",
              "3                 Incident happened inside the train           0       0   \n",
              "4  I witnessed an incident when a chain was bruta...           0       0   \n",
              "\n",
              "   Groping  \n",
              "0        1  \n",
              "1        0  \n",
              "2        0  \n",
              "3        0  \n",
              "4        0  "
            ],
            "text/html": [
              "\n",
              "  <div id=\"df-78b79865-99da-4a42-b2aa-40332fb6dea2\">\n",
              "    <div class=\"colab-df-container\">\n",
              "      <div>\n",
              "<style scoped>\n",
              "    .dataframe tbody tr th:only-of-type {\n",
              "        vertical-align: middle;\n",
              "    }\n",
              "\n",
              "    .dataframe tbody tr th {\n",
              "        vertical-align: top;\n",
              "    }\n",
              "\n",
              "    .dataframe thead th {\n",
              "        text-align: right;\n",
              "    }\n",
              "</style>\n",
              "<table border=\"1\" class=\"dataframe\">\n",
              "  <thead>\n",
              "    <tr style=\"text-align: right;\">\n",
              "      <th></th>\n",
              "      <th>Description</th>\n",
              "      <th>Commenting</th>\n",
              "      <th>Ogling</th>\n",
              "      <th>Groping</th>\n",
              "    </tr>\n",
              "  </thead>\n",
              "  <tbody>\n",
              "    <tr>\n",
              "      <th>0</th>\n",
              "      <td>Was walking along crowded street, holding mums...</td>\n",
              "      <td>0</td>\n",
              "      <td>0</td>\n",
              "      <td>1</td>\n",
              "    </tr>\n",
              "    <tr>\n",
              "      <th>1</th>\n",
              "      <td>This incident took place in the evening.I was ...</td>\n",
              "      <td>0</td>\n",
              "      <td>1</td>\n",
              "      <td>0</td>\n",
              "    </tr>\n",
              "    <tr>\n",
              "      <th>2</th>\n",
              "      <td>I WAS WAITING FOR THE BUS. A MAN CAME ON A BIK...</td>\n",
              "      <td>1</td>\n",
              "      <td>0</td>\n",
              "      <td>0</td>\n",
              "    </tr>\n",
              "    <tr>\n",
              "      <th>3</th>\n",
              "      <td>Incident happened inside the train</td>\n",
              "      <td>0</td>\n",
              "      <td>0</td>\n",
              "      <td>0</td>\n",
              "    </tr>\n",
              "    <tr>\n",
              "      <th>4</th>\n",
              "      <td>I witnessed an incident when a chain was bruta...</td>\n",
              "      <td>0</td>\n",
              "      <td>0</td>\n",
              "      <td>0</td>\n",
              "    </tr>\n",
              "  </tbody>\n",
              "</table>\n",
              "</div>\n",
              "      <button class=\"colab-df-convert\" onclick=\"convertToInteractive('df-78b79865-99da-4a42-b2aa-40332fb6dea2')\"\n",
              "              title=\"Convert this dataframe to an interactive table.\"\n",
              "              style=\"display:none;\">\n",
              "        \n",
              "  <svg xmlns=\"http://www.w3.org/2000/svg\" height=\"24px\"viewBox=\"0 0 24 24\"\n",
              "       width=\"24px\">\n",
              "    <path d=\"M0 0h24v24H0V0z\" fill=\"none\"/>\n",
              "    <path d=\"M18.56 5.44l.94 2.06.94-2.06 2.06-.94-2.06-.94-.94-2.06-.94 2.06-2.06.94zm-11 1L8.5 8.5l.94-2.06 2.06-.94-2.06-.94L8.5 2.5l-.94 2.06-2.06.94zm10 10l.94 2.06.94-2.06 2.06-.94-2.06-.94-.94-2.06-.94 2.06-2.06.94z\"/><path d=\"M17.41 7.96l-1.37-1.37c-.4-.4-.92-.59-1.43-.59-.52 0-1.04.2-1.43.59L10.3 9.45l-7.72 7.72c-.78.78-.78 2.05 0 2.83L4 21.41c.39.39.9.59 1.41.59.51 0 1.02-.2 1.41-.59l7.78-7.78 2.81-2.81c.8-.78.8-2.07 0-2.86zM5.41 20L4 18.59l7.72-7.72 1.47 1.35L5.41 20z\"/>\n",
              "  </svg>\n",
              "      </button>\n",
              "      \n",
              "  <style>\n",
              "    .colab-df-container {\n",
              "      display:flex;\n",
              "      flex-wrap:wrap;\n",
              "      gap: 12px;\n",
              "    }\n",
              "\n",
              "    .colab-df-convert {\n",
              "      background-color: #E8F0FE;\n",
              "      border: none;\n",
              "      border-radius: 50%;\n",
              "      cursor: pointer;\n",
              "      display: none;\n",
              "      fill: #1967D2;\n",
              "      height: 32px;\n",
              "      padding: 0 0 0 0;\n",
              "      width: 32px;\n",
              "    }\n",
              "\n",
              "    .colab-df-convert:hover {\n",
              "      background-color: #E2EBFA;\n",
              "      box-shadow: 0px 1px 2px rgba(60, 64, 67, 0.3), 0px 1px 3px 1px rgba(60, 64, 67, 0.15);\n",
              "      fill: #174EA6;\n",
              "    }\n",
              "\n",
              "    [theme=dark] .colab-df-convert {\n",
              "      background-color: #3B4455;\n",
              "      fill: #D2E3FC;\n",
              "    }\n",
              "\n",
              "    [theme=dark] .colab-df-convert:hover {\n",
              "      background-color: #434B5C;\n",
              "      box-shadow: 0px 1px 3px 1px rgba(0, 0, 0, 0.15);\n",
              "      filter: drop-shadow(0px 1px 2px rgba(0, 0, 0, 0.3));\n",
              "      fill: #FFFFFF;\n",
              "    }\n",
              "  </style>\n",
              "\n",
              "      <script>\n",
              "        const buttonEl =\n",
              "          document.querySelector('#df-78b79865-99da-4a42-b2aa-40332fb6dea2 button.colab-df-convert');\n",
              "        buttonEl.style.display =\n",
              "          google.colab.kernel.accessAllowed ? 'block' : 'none';\n",
              "\n",
              "        async function convertToInteractive(key) {\n",
              "          const element = document.querySelector('#df-78b79865-99da-4a42-b2aa-40332fb6dea2');\n",
              "          const dataTable =\n",
              "            await google.colab.kernel.invokeFunction('convertToInteractive',\n",
              "                                                     [key], {});\n",
              "          if (!dataTable) return;\n",
              "\n",
              "          const docLinkHtml = 'Like what you see? Visit the ' +\n",
              "            '<a target=\"_blank\" href=https://colab.research.google.com/notebooks/data_table.ipynb>data table notebook</a>'\n",
              "            + ' to learn more about interactive tables.';\n",
              "          element.innerHTML = '';\n",
              "          dataTable['output_type'] = 'display_data';\n",
              "          await google.colab.output.renderOutput(dataTable, element);\n",
              "          const docLink = document.createElement('div');\n",
              "          docLink.innerHTML = docLinkHtml;\n",
              "          element.appendChild(docLink);\n",
              "        }\n",
              "      </script>\n",
              "    </div>\n",
              "  </div>\n",
              "  "
            ]
          },
          "metadata": {},
          "execution_count": 29
        }
      ],
      "source": [
        "rena.head(5)"
      ]
    },
    {
      "cell_type": "code",
      "execution_count": 30,
      "id": "f8b1ba96",
      "metadata": {
        "execution": {
          "iopub.execute_input": "2021-09-29T03:54:56.491357Z",
          "iopub.status.busy": "2021-09-29T03:54:56.486245Z",
          "iopub.status.idle": "2021-09-29T03:54:56.766318Z",
          "shell.execute_reply": "2021-09-29T03:54:56.767013Z",
          "shell.execute_reply.started": "2021-09-29T03:13:56.900277Z"
        },
        "id": "f8b1ba96",
        "papermill": {
          "duration": 0.36001,
          "end_time": "2021-09-29T03:54:56.767161",
          "exception": false,
          "start_time": "2021-09-29T03:54:56.407151",
          "status": "completed"
        },
        "tags": [],
        "colab": {
          "base_uri": "https://localhost:8080/",
          "height": 468
        },
        "outputId": "c80c03a5-ad5d-4fac-cd50-bc18022c9308"
      },
      "outputs": [
        {
          "output_type": "execute_result",
          "data": {
            "text/plain": [
              "Text(0.5, 1.0, 'Groping')"
            ]
          },
          "metadata": {},
          "execution_count": 30
        },
        {
          "output_type": "display_data",
          "data": {
            "text/plain": [
              "<Figure size 640x480 with 3 Axes>"
            ],
            "image/png": "[encoded data removed]"
          },
          "metadata": {}
        }
      ],
      "source": [
        "\n",
        "figure(figsize=(8, 6), dpi=80)\n",
        "mplt.subplot(311)\n",
        "ax1_co = sb.countplot(x=\"Commenting\", data=rena, color=\"red\")\n",
        "ax1_co.set_title('Commenting')\n",
        "mplt.subplot(312)\n",
        "ax2_og = sb.countplot(x=\"Ogling\", data=rena, color=\"green\")\n",
        "ax2_og.set_title('Ogling')\n",
        "mplt.subplot(313)\n",
        "ax3_grop = sb.countplot(x=\"Groping\", data=rena, color=\"blue\")\n",
        "ax3_grop.set_title('Groping')\n"
      ]
    },
    {
      "cell_type": "markdown",
      "id": "ceee2d8b",
      "metadata": {
        "id": "ceee2d8b",
        "papermill": {
          "duration": 0.063251,
          "end_time": "2021-09-29T03:54:56.892716",
          "exception": false,
          "start_time": "2021-09-29T03:54:56.829465",
          "status": "completed"
        },
        "tags": []
      },
      "source": [
        "In the multilabel dataset, the number of incidents of occurence are more commenting followed by groping followed by ogling "
      ]
    },
    {
      "cell_type": "markdown",
      "id": "fb91597a",
      "metadata": {
        "id": "fb91597a",
        "papermill": {
          "duration": 0.058165,
          "end_time": "2021-09-29T03:54:57.126697",
          "exception": false,
          "start_time": "2021-09-29T03:54:57.068532",
          "status": "completed"
        },
        "tags": []
      },
      "source": [
        "**PreProcessing of description feature**"
      ]
    },
    {
      "cell_type": "markdown",
      "id": "4d8e3b4f",
      "metadata": {
        "papermill": {
          "duration": 0.057806,
          "end_time": "2021-09-29T03:54:57.242684",
          "exception": false,
          "start_time": "2021-09-29T03:54:57.184878",
          "status": "completed"
        },
        "tags": [],
        "id": "4d8e3b4f"
      },
      "source": [
        "**Dropping duplicate description rows**"
      ]
    },
    {
      "cell_type": "code",
      "execution_count": 31,
      "id": "d43c76cc",
      "metadata": {
        "execution": {
          "iopub.execute_input": "2021-09-29T03:54:57.367367Z",
          "iopub.status.busy": "2021-09-29T03:54:57.366611Z",
          "iopub.status.idle": "2021-09-29T03:54:57.389975Z",
          "shell.execute_reply": "2021-09-29T03:54:57.390394Z",
          "shell.execute_reply.started": "2021-09-29T03:13:57.209766Z"
        },
        "papermill": {
          "duration": 0.089315,
          "end_time": "2021-09-29T03:54:57.390529",
          "exception": false,
          "start_time": "2021-09-29T03:54:57.301214",
          "status": "completed"
        },
        "tags": [],
        "id": "d43c76cc"
      },
      "outputs": [],
      "source": [
        "ogling_train = ogling_train[~ogling_train['Description'].duplicated(keep=False)]\n",
        "groping_train = groping_train[~groping_train['Description'].duplicated(keep=False)]\n",
        "com_f_tra = com_f_tra[~com_f_tra['Description'].duplicated(keep=False)]\n",
        "rena = rena[~rena['Description'].duplicated(keep=False)]"
      ]
    },
    {
      "cell_type": "markdown",
      "id": "901e694e",
      "metadata": {
        "papermill": {
          "duration": 0.059004,
          "end_time": "2021-09-29T03:54:57.508208",
          "exception": false,
          "start_time": "2021-09-29T03:54:57.449204",
          "status": "completed"
        },
        "tags": [],
        "id": "901e694e"
      },
      "source": [
        "**Removing punctuation symbols and  special characters**"
      ]
    },
    {
      "cell_type": "code",
      "execution_count": 32,
      "id": "f74fd946",
      "metadata": {
        "execution": {
          "iopub.execute_input": "2021-09-29T03:54:57.729017Z",
          "iopub.status.busy": "2021-09-29T03:54:57.628777Z",
          "iopub.status.idle": "2021-09-29T03:54:57.732130Z",
          "shell.execute_reply": "2021-09-29T03:54:57.731689Z",
          "shell.execute_reply.started": "2021-09-29T03:13:57.242194Z"
        },
        "papermill": {
          "duration": 0.164766,
          "end_time": "2021-09-29T03:54:57.732252",
          "exception": false,
          "start_time": "2021-09-29T03:54:57.567486",
          "status": "completed"
        },
        "tags": [],
        "id": "f74fd946"
      },
      "outputs": [],
      "source": [
        "import string\n",
        "from nltk.corpus import stopwords\n",
        "\n",
        "def cleaning_the_data(data):\n",
        "    stop = stopwords.words('english')\n",
        "    res = []\n",
        "    for x in data['Description']:\n",
        "      x = str(x)\n",
        "      words = x.split()\n",
        "      i = 0\n",
        "      while i < len(words):\n",
        "        if words[i].lower() in stop:\n",
        "          words.pop(i)\n",
        "        else:\n",
        "          words[i] = words[i].lower()\n",
        "          i += 1\n",
        "      x = ' '.join(words)\n",
        "      x = x.translate(str.maketrans('', '', string.punctuation))\n",
        "      res.append(x)\n",
        "    return res\n"
      ]
    },
    {
      "cell_type": "code",
      "execution_count": 33,
      "id": "90057d72",
      "metadata": {
        "execution": {
          "iopub.execute_input": "2021-09-29T03:54:57.854394Z",
          "iopub.status.busy": "2021-09-29T03:54:57.853701Z",
          "iopub.status.idle": "2021-09-29T03:54:59.980723Z",
          "shell.execute_reply": "2021-09-29T03:54:59.979681Z",
          "shell.execute_reply.started": "2021-09-29T03:13:57.256539Z"
        },
        "papermill": {
          "duration": 2.189999,
          "end_time": "2021-09-29T03:54:59.980848",
          "exception": false,
          "start_time": "2021-09-29T03:54:57.790849",
          "status": "completed"
        },
        "tags": [],
        "colab": {
          "base_uri": "https://localhost:8080/"
        },
        "id": "90057d72",
        "outputId": "24391d48-c5fe-4953-a618-767d420e1017"
      },
      "outputs": [
        {
          "output_type": "stream",
          "name": "stderr",
          "text": [
            "[nltk_data] Downloading package stopwords to /root/nltk_data...\n",
            "[nltk_data]   Unzipping corpora/stopwords.zip.\n"
          ]
        }
      ],
      "source": [
        "from nltk.corpus import stopwords\n",
        "import nltk\n",
        "nltk.download('stopwords')\n",
        "\n",
        "ogling_train['Description'] = cleaning_the_data(ogling_train)\n",
        "ogling_test['Description'] = cleaning_the_data(ogling_test)\n",
        "groping_train['Description'] = cleaning_the_data(groping_train)\n",
        "groping_test['Description'] = cleaning_the_data(groping_test)\n",
        "com_f_tra['Description'] = cleaning_the_data(com_f_tra)\n",
        "com_f_tes['Description'] = cleaning_the_data(com_f_tes)\n",
        "rena['Description'] = cleaning_the_data(rena)\n"
      ]
    },
    {
      "cell_type": "markdown",
      "id": "c87a2c78",
      "metadata": {
        "id": "c87a2c78",
        "papermill": {
          "duration": 0.061626,
          "end_time": "2021-09-29T03:55:00.102205",
          "exception": false,
          "start_time": "2021-09-29T03:55:00.040579",
          "status": "completed"
        },
        "tags": []
      },
      "source": [
        "Convert all the characters into small letters\n",
        "\n"
      ]
    },
    {
      "cell_type": "code",
      "execution_count": 34,
      "id": "bf7abf92",
      "metadata": {
        "execution": {
          "iopub.execute_input": "2021-09-29T03:55:00.224082Z",
          "iopub.status.busy": "2021-09-29T03:55:00.223286Z",
          "iopub.status.idle": "2021-09-29T03:55:00.225311Z",
          "shell.execute_reply": "2021-09-29T03:55:00.225689Z",
          "shell.execute_reply.started": "2021-09-29T03:13:58.843349Z"
        },
        "id": "bf7abf92",
        "papermill": {
          "duration": 0.064927,
          "end_time": "2021-09-29T03:55:00.225815",
          "exception": false,
          "start_time": "2021-09-29T03:55:00.160888",
          "status": "completed"
        },
        "tags": []
      },
      "outputs": [],
      "source": [
        "def preprocess(data):\n",
        "  results = []\n",
        "  for i in data['Description']:\n",
        "    k = i.lower()\n",
        "    results.append(k)\n",
        "  return results"
      ]
    },
    {
      "cell_type": "code",
      "execution_count": 35,
      "id": "1a491f7a",
      "metadata": {
        "execution": {
          "iopub.execute_input": "2021-09-29T03:55:00.353647Z",
          "iopub.status.busy": "2021-09-29T03:55:00.352840Z",
          "iopub.status.idle": "2021-09-29T03:55:00.354846Z",
          "shell.execute_reply": "2021-09-29T03:55:00.355315Z",
          "shell.execute_reply.started": "2021-09-29T03:13:58.850950Z"
        },
        "id": "1a491f7a",
        "papermill": {
          "duration": 0.071291,
          "end_time": "2021-09-29T03:55:00.355443",
          "exception": false,
          "start_time": "2021-09-29T03:55:00.284152",
          "status": "completed"
        },
        "tags": []
      },
      "outputs": [],
      "source": [
        "ogling_train['lower'] = preprocess(ogling_train)\n",
        "ogling_test['lower'] = preprocess(ogling_test)\n"
      ]
    },
    {
      "cell_type": "code",
      "execution_count": 36,
      "id": "df4ef641",
      "metadata": {
        "execution": {
          "iopub.execute_input": "2021-09-29T03:55:00.478379Z",
          "iopub.status.busy": "2021-09-29T03:55:00.477489Z",
          "iopub.status.idle": "2021-09-29T03:55:00.482724Z",
          "shell.execute_reply": "2021-09-29T03:55:00.483199Z",
          "shell.execute_reply.started": "2021-09-29T03:13:58.868088Z"
        },
        "id": "df4ef641",
        "papermill": {
          "duration": 0.069066,
          "end_time": "2021-09-29T03:55:00.483326",
          "exception": false,
          "start_time": "2021-09-29T03:55:00.414260",
          "status": "completed"
        },
        "tags": []
      },
      "outputs": [],
      "source": [
        "ogling_train = ogling_train.drop(['Description'],axis=1)\n",
        "ogling_test = ogling_test.drop(['Description'],axis=1)"
      ]
    },
    {
      "cell_type": "markdown",
      "id": "486ac4f4",
      "metadata": {
        "id": "486ac4f4",
        "papermill": {
          "duration": 0.058945,
          "end_time": "2021-09-29T03:55:00.602345",
          "exception": false,
          "start_time": "2021-09-29T03:55:00.543400",
          "status": "completed"
        },
        "tags": []
      },
      "source": [
        "**Baseline Logistic Regression model**"
      ]
    },
    {
      "cell_type": "markdown",
      "id": "8d35ff60",
      "metadata": {
        "id": "8d35ff60",
        "papermill": {
          "duration": 0.05837,
          "end_time": "2021-09-29T03:55:00.720398",
          "exception": false,
          "start_time": "2021-09-29T03:55:00.662028",
          "status": "completed"
        },
        "tags": []
      },
      "source": [
        "***Ogling***"
      ]
    },
    {
      "cell_type": "code",
      "execution_count": 37,
      "id": "a5d691c8",
      "metadata": {
        "execution": {
          "iopub.execute_input": "2021-09-29T03:55:00.849440Z",
          "iopub.status.busy": "2021-09-29T03:55:00.848647Z",
          "iopub.status.idle": "2021-09-29T03:55:00.853247Z",
          "shell.execute_reply": "2021-09-29T03:55:00.852784Z",
          "shell.execute_reply.started": "2021-09-29T03:13:58.880193Z"
        },
        "papermill": {
          "duration": 0.074766,
          "end_time": "2021-09-29T03:55:00.853352",
          "exception": false,
          "start_time": "2021-09-29T03:55:00.778586",
          "status": "completed"
        },
        "tags": [],
        "colab": {
          "base_uri": "https://localhost:8080/",
          "height": 423
        },
        "id": "a5d691c8",
        "outputId": "d169db60-89e7-41d6-d8be-0888514aa97b"
      },
      "outputs": [
        {
          "output_type": "execute_result",
          "data": {
            "text/plain": [
              "      Category                                              lower\n",
              "0            0  walking along crowded street holding mums hand...\n",
              "1            1  incident took place eveningi metro two guys st...\n",
              "2            0  waiting bus man came bike offering liftvto you...\n",
              "3            0                     incident happened inside train\n",
              "4            0  witnessed incident chain brutally snatched eld...\n",
              "...        ...                                                ...\n",
              "7196         1  person near construction site probably laborer...\n",
              "7197         0  threatened making inappropriate conversationth...\n",
              "7198         0  happened morning university metro station guys...\n",
              "7199         0  one day aunt returniec frm office  shaunt e fo...\n",
              "7200         0                          victim sxual assault rape\n",
              "\n",
              "[6493 rows x 2 columns]"
            ],
            "text/html": [
              "\n",
              "  <div id=\"df-66f59d85-85d7-4ebe-9002-dc17ea760251\">\n",
              "    <div class=\"colab-df-container\">\n",
              "      <div>\n",
              "<style scoped>\n",
              "    .dataframe tbody tr th:only-of-type {\n",
              "        vertical-align: middle;\n",
              "    }\n",
              "\n",
              "    .dataframe tbody tr th {\n",
              "        vertical-align: top;\n",
              "    }\n",
              "\n",
              "    .dataframe thead th {\n",
              "        text-align: right;\n",
              "    }\n",
              "</style>\n",
              "<table border=\"1\" class=\"dataframe\">\n",
              "  <thead>\n",
              "    <tr style=\"text-align: right;\">\n",
              "      <th></th>\n",
              "      <th>Category</th>\n",
              "      <th>lower</th>\n",
              "    </tr>\n",
              "  </thead>\n",
              "  <tbody>\n",
              "    <tr>\n",
              "      <th>0</th>\n",
              "      <td>0</td>\n",
              "      <td>walking along crowded street holding mums hand...</td>\n",
              "    </tr>\n",
              "    <tr>\n",
              "      <th>1</th>\n",
              "      <td>1</td>\n",
              "      <td>incident took place eveningi metro two guys st...</td>\n",
              "    </tr>\n",
              "    <tr>\n",
              "      <th>2</th>\n",
              "      <td>0</td>\n",
              "      <td>waiting bus man came bike offering liftvto you...</td>\n",
              "    </tr>\n",
              "    <tr>\n",
              "      <th>3</th>\n",
              "      <td>0</td>\n",
              "      <td>incident happened inside train</td>\n",
              "    </tr>\n",
              "    <tr>\n",
              "      <th>4</th>\n",
              "      <td>0</td>\n",
              "      <td>witnessed incident chain brutally snatched eld...</td>\n",
              "    </tr>\n",
              "    <tr>\n",
              "      <th>...</th>\n",
              "      <td>...</td>\n",
              "      <td>...</td>\n",
              "    </tr>\n",
              "    <tr>\n",
              "      <th>7196</th>\n",
              "      <td>1</td>\n",
              "      <td>person near construction site probably laborer...</td>\n",
              "    </tr>\n",
              "    <tr>\n",
              "      <th>7197</th>\n",
              "      <td>0</td>\n",
              "      <td>threatened making inappropriate conversationth...</td>\n",
              "    </tr>\n",
              "    <tr>\n",
              "      <th>7198</th>\n",
              "      <td>0</td>\n",
              "      <td>happened morning university metro station guys...</td>\n",
              "    </tr>\n",
              "    <tr>\n",
              "      <th>7199</th>\n",
              "      <td>0</td>\n",
              "      <td>one day aunt returniec frm office  shaunt e fo...</td>\n",
              "    </tr>\n",
              "    <tr>\n",
              "      <th>7200</th>\n",
              "      <td>0</td>\n",
              "      <td>victim sxual assault rape</td>\n",
              "    </tr>\n",
              "  </tbody>\n",
              "</table>\n",
              "<p>6493 rows × 2 columns</p>\n",
              "</div>\n",
              "      <button class=\"colab-df-convert\" onclick=\"convertToInteractive('df-66f59d85-85d7-4ebe-9002-dc17ea760251')\"\n",
              "              title=\"Convert this dataframe to an interactive table.\"\n",
              "              style=\"display:none;\">\n",
              "        \n",
              "  <svg xmlns=\"http://www.w3.org/2000/svg\" height=\"24px\"viewBox=\"0 0 24 24\"\n",
              "       width=\"24px\">\n",
              "    <path d=\"M0 0h24v24H0V0z\" fill=\"none\"/>\n",
              "    <path d=\"M18.56 5.44l.94 2.06.94-2.06 2.06-.94-2.06-.94-.94-2.06-.94 2.06-2.06.94zm-11 1L8.5 8.5l.94-2.06 2.06-.94-2.06-.94L8.5 2.5l-.94 2.06-2.06.94zm10 10l.94 2.06.94-2.06 2.06-.94-2.06-.94-.94-2.06-.94 2.06-2.06.94z\"/><path d=\"M17.41 7.96l-1.37-1.37c-.4-.4-.92-.59-1.43-.59-.52 0-1.04.2-1.43.59L10.3 9.45l-7.72 7.72c-.78.78-.78 2.05 0 2.83L4 21.41c.39.39.9.59 1.41.59.51 0 1.02-.2 1.41-.59l7.78-7.78 2.81-2.81c.8-.78.8-2.07 0-2.86zM5.41 20L4 18.59l7.72-7.72 1.47 1.35L5.41 20z\"/>\n",
              "  </svg>\n",
              "      </button>\n",
              "      \n",
              "  <style>\n",
              "    .colab-df-container {\n",
              "      display:flex;\n",
              "      flex-wrap:wrap;\n",
              "      gap: 12px;\n",
              "    }\n",
              "\n",
              "    .colab-df-convert {\n",
              "      background-color: #E8F0FE;\n",
              "      border: none;\n",
              "      border-radius: 50%;\n",
              "      cursor: pointer;\n",
              "      display: none;\n",
              "      fill: #1967D2;\n",
              "      height: 32px;\n",
              "      padding: 0 0 0 0;\n",
              "      width: 32px;\n",
              "    }\n",
              "\n",
              "    .colab-df-convert:hover {\n",
              "      background-color: #E2EBFA;\n",
              "      box-shadow: 0px 1px 2px rgba(60, 64, 67, 0.3), 0px 1px 3px 1px rgba(60, 64, 67, 0.15);\n",
              "      fill: #174EA6;\n",
              "    }\n",
              "\n",
              "    [theme=dark] .colab-df-convert {\n",
              "      background-color: #3B4455;\n",
              "      fill: #D2E3FC;\n",
              "    }\n",
              "\n",
              "    [theme=dark] .colab-df-convert:hover {\n",
              "      background-color: #434B5C;\n",
              "      box-shadow: 0px 1px 3px 1px rgba(0, 0, 0, 0.15);\n",
              "      filter: drop-shadow(0px 1px 2px rgba(0, 0, 0, 0.3));\n",
              "      fill: #FFFFFF;\n",
              "    }\n",
              "  </style>\n",
              "\n",
              "      <script>\n",
              "        const buttonEl =\n",
              "          document.querySelector('#df-66f59d85-85d7-4ebe-9002-dc17ea760251 button.colab-df-convert');\n",
              "        buttonEl.style.display =\n",
              "          google.colab.kernel.accessAllowed ? 'block' : 'none';\n",
              "\n",
              "        async function convertToInteractive(key) {\n",
              "          const element = document.querySelector('#df-66f59d85-85d7-4ebe-9002-dc17ea760251');\n",
              "          const dataTable =\n",
              "            await google.colab.kernel.invokeFunction('convertToInteractive',\n",
              "                                                     [key], {});\n",
              "          if (!dataTable) return;\n",
              "\n",
              "          const docLinkHtml = 'Like what you see? Visit the ' +\n",
              "            '<a target=\"_blank\" href=https://colab.research.google.com/notebooks/data_table.ipynb>data table notebook</a>'\n",
              "            + ' to learn more about interactive tables.';\n",
              "          element.innerHTML = '';\n",
              "          dataTable['output_type'] = 'display_data';\n",
              "          await google.colab.output.renderOutput(dataTable, element);\n",
              "          const docLink = document.createElement('div');\n",
              "          docLink.innerHTML = docLinkHtml;\n",
              "          element.appendChild(docLink);\n",
              "        }\n",
              "      </script>\n",
              "    </div>\n",
              "  </div>\n",
              "  "
            ]
          },
          "metadata": {},
          "execution_count": 37
        }
      ],
      "source": [
        "ogling_train"
      ]
    },
    {
      "cell_type": "code",
      "execution_count": null,
      "id": "175b0fce",
      "metadata": {
        "execution": {
          "iopub.execute_input": "2021-09-29T03:55:00.985159Z",
          "iopub.status.busy": "2021-09-29T03:55:00.984546Z",
          "iopub.status.idle": "2021-09-29T03:55:00.987650Z",
          "shell.execute_reply": "2021-09-29T03:55:00.988075Z",
          "shell.execute_reply.started": "2021-09-29T03:13:58.896393Z"
        },
        "papermill": {
          "duration": 0.073508,
          "end_time": "2021-09-29T03:55:00.988202",
          "exception": false,
          "start_time": "2021-09-29T03:55:00.914694",
          "status": "completed"
        },
        "tags": [],
        "id": "175b0fce"
      },
      "outputs": [],
      "source": [
        "ogling_test"
      ]
    },
    {
      "cell_type": "code",
      "execution_count": 38,
      "id": "653fe52b",
      "metadata": {
        "colab": {
          "base_uri": "https://localhost:8080/"
        },
        "id": "653fe52b",
        "outputId": "01d8d02a-5a52-4f05-9b11-80ac420ff665"
      },
      "outputs": [
        {
          "output_type": "stream",
          "name": "stdout",
          "text": [
            "Looking in indexes: https://pypi.org/simple, https://us-python.pkg.dev/colab-wheels/public/simple/\n",
            "Collecting imblearn\n",
            "  Downloading imblearn-0.0-py2.py3-none-any.whl (1.9 kB)\n",
            "Requirement already satisfied: imbalanced-learn in /usr/local/lib/python3.10/dist-packages (from imblearn) (0.10.1)\n",
            "Requirement already satisfied: numpy>=1.17.3 in /usr/local/lib/python3.10/dist-packages (from imbalanced-learn->imblearn) (1.22.4)\n",
            "Requirement already satisfied: joblib>=1.1.1 in /usr/local/lib/python3.10/dist-packages (from imbalanced-learn->imblearn) (1.2.0)\n",
            "Requirement already satisfied: scipy>=1.3.2 in /usr/local/lib/python3.10/dist-packages (from imbalanced-learn->imblearn) (1.10.1)\n",
            "Requirement already satisfied: threadpoolctl>=2.0.0 in /usr/local/lib/python3.10/dist-packages (from imbalanced-learn->imblearn) (3.1.0)\n",
            "Requirement already satisfied: scikit-learn>=1.0.2 in /usr/local/lib/python3.10/dist-packages (from imbalanced-learn->imblearn) (1.2.2)\n",
            "Installing collected packages: imblearn\n",
            "Successfully installed imblearn-0.0\n"
          ]
        }
      ],
      "source": [
        "pip install imblearn"
      ]
    },
    {
      "cell_type": "code",
      "execution_count": 41,
      "id": "32f9bf80",
      "metadata": {
        "execution": {
          "iopub.execute_input": "2021-09-29T03:55:01.113862Z",
          "iopub.status.busy": "2021-09-29T03:55:01.113364Z",
          "iopub.status.idle": "2021-09-29T03:55:01.307896Z",
          "shell.execute_reply": "2021-09-29T03:55:01.307439Z",
          "shell.execute_reply.started": "2021-09-29T03:13:58.911049Z"
        },
        "id": "32f9bf80",
        "papermill": {
          "duration": 0.261002,
          "end_time": "2021-09-29T03:55:01.308050",
          "exception": false,
          "start_time": "2021-09-29T03:55:01.047048",
          "status": "completed"
        },
        "tags": []
      },
      "outputs": [],
      "source": [
        "from sklearn.metrics import roc_auc_score\n",
        "from sklearn.metrics import accuracy_score\n",
        "from sklearn.linear_model import LogisticRegression\n",
        "from sklearn.model_selection import train_test_split\n",
        "from sklearn.feature_extraction.text import TfidfVectorizer\n",
        "from imblearn.over_sampling import SMOTE\n",
        "from scipy.sparse import hstack\n",
        "from sklearn.feature_extraction.text import TfidfVectorizer\n",
        "from nltk.corpus import stopwords\n",
        "sm_model = SMOTE(sampling_strategy='minority')\n",
        "\n",
        "def Logistic_pipeline(data,test):\n",
        "    X = data['lower']\n",
        "    y = data['Category']\n",
        "    Ogling_Test = test['lower']\n",
        "    y_testing = test['Category']\n",
        "    stop = stopwords.words('english') + stopwords.words('spanish')\n",
        "    vect = TfidfVectorizer(ngram_range=(1,2), min_df=10, max_features=1000, stop_words=stop)\n",
        "    X = vect.fit_transform(X.values)\n",
        "    Ogling_Test = vect.transform(Ogling_Test)\n",
        "    #X,y = sm_model.fit_resample(X, y)\n",
        "    l_og_istic = LogisticRegression(random_state=0).fit(X, y)\n",
        "    y_predict = l_og_istic.predict(Ogling_Test)\n",
        "    score = roc_auc_score(y_predict,y_testing)\n",
        "    print(score)\n",
        "    ac = accuracy_score(y_testing, y_predict)\n",
        "    print(ac)"
      ]
    },
    {
      "cell_type": "code",
      "execution_count": 42,
      "id": "40aca2f1",
      "metadata": {
        "execution": {
          "iopub.execute_input": "2021-09-29T03:55:01.442726Z",
          "iopub.status.busy": "2021-09-29T03:55:01.441868Z",
          "iopub.status.idle": "2021-09-29T03:55:02.070469Z",
          "shell.execute_reply": "2021-09-29T03:55:02.071016Z",
          "shell.execute_reply.started": "2021-09-29T03:13:58.921482Z"
        },
        "id": "40aca2f1",
        "outputId": "b785837a-0a06-41b1-a841-4b4ceb5d942a",
        "papermill": {
          "duration": 0.703164,
          "end_time": "2021-09-29T03:55:02.071186",
          "exception": false,
          "start_time": "2021-09-29T03:55:01.368022",
          "status": "completed"
        },
        "tags": [],
        "colab": {
          "base_uri": "https://localhost:8080/"
        }
      },
      "outputs": [
        {
          "output_type": "stream",
          "name": "stdout",
          "text": [
            "0.8312224669603525\n",
            "0.8242210464432687\n"
          ]
        }
      ],
      "source": [
        "Logistic_pipeline(ogling_train,ogling_test)"
      ]
    },
    {
      "cell_type": "code",
      "execution_count": 43,
      "id": "bcf1df1a",
      "metadata": {
        "colab": {
          "base_uri": "https://localhost:8080/"
        },
        "id": "bcf1df1a",
        "outputId": "a02ae17b-7b69-4212-ddd6-575d1cd0ac23"
      },
      "outputs": [
        {
          "output_type": "stream",
          "name": "stdout",
          "text": [
            "      Category                                              lower\n",
            "0            0  walking along crowded street holding mums hand...\n",
            "1            1  incident took place eveningi metro two guys st...\n",
            "2            0  waiting bus man came bike offering liftvto you...\n",
            "3            0                     incident happened inside train\n",
            "4            0  witnessed incident chain brutally snatched eld...\n",
            "...        ...                                                ...\n",
            "7196         1  person near construction site probably laborer...\n",
            "7197         0  threatened making inappropriate conversationth...\n",
            "7198         0  happened morning university metro station guys...\n",
            "7199         0  one day aunt returniec frm office  shaunt e fo...\n",
            "7200         0                          victim sxual assault rape\n",
            "\n",
            "[6493 rows x 2 columns]\n",
            "      Category                                              lower\n",
            "0            1  morning woman walking thin guy came around cal...\n",
            "1            0          man tried brush penis womans shoulder bus\n",
            "2            1  happened fellow passenger mine travelling metr...\n",
            "3            1                                             ogling\n",
            "4            0  returning home finishing class queue get micro...\n",
            "...        ...                                                ...\n",
            "1696         0                           obscene comments staring\n",
            "1697         0  going friend metro morning group boys started ...\n",
            "1698         0  person tried grab walkng railway station stati...\n",
            "1699         0  bad people touched private parts ranchibhagalp...\n",
            "1700         0    age 16 yearstype harassment catcalls leh market\n",
            "\n",
            "[1701 rows x 2 columns]\n"
          ]
        }
      ],
      "source": [
        "print(ogling_train)\n",
        "print(ogling_test)"
      ]
    },
    {
      "cell_type": "code",
      "execution_count": 44,
      "id": "72d75c1e",
      "metadata": {
        "execution": {
          "iopub.execute_input": "2021-09-29T03:55:02.317245Z",
          "iopub.status.busy": "2021-09-29T03:55:02.316612Z",
          "iopub.status.idle": "2021-09-29T03:55:02.395199Z",
          "shell.execute_reply": "2021-09-29T03:55:02.394669Z",
          "shell.execute_reply.started": "2021-09-29T03:13:59.588028Z"
        },
        "papermill": {
          "duration": 0.144863,
          "end_time": "2021-09-29T03:55:02.395319",
          "exception": false,
          "start_time": "2021-09-29T03:55:02.250456",
          "status": "completed"
        },
        "tags": [],
        "id": "72d75c1e"
      },
      "outputs": [],
      "source": [
        "#!pip install xgboost\n",
        "from xgboost import XGBClassifier\n",
        "def XGBoost_pipeline(data,test):\n",
        "    X = data['lower']\n",
        "    y = data['Category']\n",
        "    Ogling_Test = test['lower']\n",
        "    y_testing = test['Category']\n",
        "    #Oglin_Train,Ogling_Testing,y_training,y_testing = train_test_split(X,y,test_size=0.25)\n",
        "    stop = stopwords.words('english') + stopwords.words('spanish')\n",
        "\n",
        "    vect = TfidfVectorizer(ngram_range=(1,2), min_df=10, max_features=1000, stop_words=stop)\n",
        "\n",
        "    #vect = TfidfVectorizer(ngram_range=(1,3),min_df=15,max_features=500,s_w='english')\n",
        "    X = vect.fit_transform(X)\n",
        "    Ogling_Test = vect.transform(Ogling_Test)\n",
        "    \n",
        "    model = XGBClassifier(random_state=42)\n",
        "    model.fit(X, y)\n",
        "    y_predict = model.predict(Ogling_Test)\n",
        "    score = roc_auc_score(y_predict,y_testing)\n",
        "    print(score)\n",
        "    ac = accuracy_score(y_testing, y_predict)\n",
        "    print(ac)"
      ]
    },
    {
      "cell_type": "code",
      "execution_count": 45,
      "id": "19555862",
      "metadata": {
        "execution": {
          "iopub.execute_input": "2021-09-29T03:55:02.565636Z",
          "iopub.status.busy": "2021-09-29T03:55:02.550112Z",
          "iopub.status.idle": "2021-09-29T03:55:07.838169Z",
          "shell.execute_reply": "2021-09-29T03:55:07.838710Z",
          "shell.execute_reply.started": "2021-09-29T03:13:59.596849Z"
        },
        "papermill": {
          "duration": 5.383294,
          "end_time": "2021-09-29T03:55:07.838873",
          "exception": false,
          "start_time": "2021-09-29T03:55:02.455579",
          "status": "completed"
        },
        "tags": [],
        "colab": {
          "base_uri": "https://localhost:8080/"
        },
        "id": "19555862",
        "outputId": "f5e19945-24ea-4c6f-83af-e612c8d3b449"
      },
      "outputs": [
        {
          "output_type": "stream",
          "name": "stdout",
          "text": [
            "0.7919355997019668\n",
            "0.8224573780129336\n"
          ]
        }
      ],
      "source": [
        "XGBoost_pipeline(ogling_train,ogling_test)"
      ]
    },
    {
      "cell_type": "markdown",
      "id": "1d66b25b",
      "metadata": {
        "id": "1d66b25b",
        "papermill": {
          "duration": 0.061545,
          "end_time": "2021-09-29T03:55:07.962250",
          "exception": false,
          "start_time": "2021-09-29T03:55:07.900705",
          "status": "completed"
        },
        "tags": []
      },
      "source": [
        "***Groping***"
      ]
    },
    {
      "cell_type": "code",
      "execution_count": 46,
      "id": "4714d805",
      "metadata": {
        "execution": {
          "iopub.execute_input": "2021-09-29T03:55:08.111483Z",
          "iopub.status.busy": "2021-09-29T03:55:08.097909Z",
          "iopub.status.idle": "2021-09-29T03:55:08.114181Z",
          "shell.execute_reply": "2021-09-29T03:55:08.114602Z",
          "shell.execute_reply.started": "2021-09-29T03:14:02.346434Z"
        },
        "id": "4714d805",
        "papermill": {
          "duration": 0.090564,
          "end_time": "2021-09-29T03:55:08.114727",
          "exception": false,
          "start_time": "2021-09-29T03:55:08.024163",
          "status": "completed"
        },
        "tags": [],
        "colab": {
          "base_uri": "https://localhost:8080/",
          "height": 423
        },
        "outputId": "49c06ca4-a3a8-47b0-cf30-c62ef956cc64"
      },
      "outputs": [
        {
          "output_type": "execute_result",
          "data": {
            "text/plain": [
              "      Category                                              lower\n",
              "0            0  morning woman walking thin guy came around cal...\n",
              "1            1          man tried brush penis womans shoulder bus\n",
              "2            0  happened fellow passenger mine travelling metr...\n",
              "3            0                                             ogling\n",
              "4            1  returning home finishing class queue get micro...\n",
              "...        ...                                                ...\n",
              "1696         0                           obscene comments staring\n",
              "1697         1  going friend metro morning group boys started ...\n",
              "1698         1  person tried grab walkng railway station stati...\n",
              "1699         1  bad people touched private parts ranchibhagalp...\n",
              "1700         0    age 16 yearstype harassment catcalls leh market\n",
              "\n",
              "[1701 rows x 2 columns]"
            ],
            "text/html": [
              "\n",
              "  <div id=\"df-1f10b900-cf71-4f71-9c16-b713d59fce4c\">\n",
              "    <div class=\"colab-df-container\">\n",
              "      <div>\n",
              "<style scoped>\n",
              "    .dataframe tbody tr th:only-of-type {\n",
              "        vertical-align: middle;\n",
              "    }\n",
              "\n",
              "    .dataframe tbody tr th {\n",
              "        vertical-align: top;\n",
              "    }\n",
              "\n",
              "    .dataframe thead th {\n",
              "        text-align: right;\n",
              "    }\n",
              "</style>\n",
              "<table border=\"1\" class=\"dataframe\">\n",
              "  <thead>\n",
              "    <tr style=\"text-align: right;\">\n",
              "      <th></th>\n",
              "      <th>Category</th>\n",
              "      <th>lower</th>\n",
              "    </tr>\n",
              "  </thead>\n",
              "  <tbody>\n",
              "    <tr>\n",
              "      <th>0</th>\n",
              "      <td>0</td>\n",
              "      <td>morning woman walking thin guy came around cal...</td>\n",
              "    </tr>\n",
              "    <tr>\n",
              "      <th>1</th>\n",
              "      <td>1</td>\n",
              "      <td>man tried brush penis womans shoulder bus</td>\n",
              "    </tr>\n",
              "    <tr>\n",
              "      <th>2</th>\n",
              "      <td>0</td>\n",
              "      <td>happened fellow passenger mine travelling metr...</td>\n",
              "    </tr>\n",
              "    <tr>\n",
              "      <th>3</th>\n",
              "      <td>0</td>\n",
              "      <td>ogling</td>\n",
              "    </tr>\n",
              "    <tr>\n",
              "      <th>4</th>\n",
              "      <td>1</td>\n",
              "      <td>returning home finishing class queue get micro...</td>\n",
              "    </tr>\n",
              "    <tr>\n",
              "      <th>...</th>\n",
              "      <td>...</td>\n",
              "      <td>...</td>\n",
              "    </tr>\n",
              "    <tr>\n",
              "      <th>1696</th>\n",
              "      <td>0</td>\n",
              "      <td>obscene comments staring</td>\n",
              "    </tr>\n",
              "    <tr>\n",
              "      <th>1697</th>\n",
              "      <td>1</td>\n",
              "      <td>going friend metro morning group boys started ...</td>\n",
              "    </tr>\n",
              "    <tr>\n",
              "      <th>1698</th>\n",
              "      <td>1</td>\n",
              "      <td>person tried grab walkng railway station stati...</td>\n",
              "    </tr>\n",
              "    <tr>\n",
              "      <th>1699</th>\n",
              "      <td>1</td>\n",
              "      <td>bad people touched private parts ranchibhagalp...</td>\n",
              "    </tr>\n",
              "    <tr>\n",
              "      <th>1700</th>\n",
              "      <td>0</td>\n",
              "      <td>age 16 yearstype harassment catcalls leh market</td>\n",
              "    </tr>\n",
              "  </tbody>\n",
              "</table>\n",
              "<p>1701 rows × 2 columns</p>\n",
              "</div>\n",
              "      <button class=\"colab-df-convert\" onclick=\"convertToInteractive('df-1f10b900-cf71-4f71-9c16-b713d59fce4c')\"\n",
              "              title=\"Convert this dataframe to an interactive table.\"\n",
              "              style=\"display:none;\">\n",
              "        \n",
              "  <svg xmlns=\"http://www.w3.org/2000/svg\" height=\"24px\"viewBox=\"0 0 24 24\"\n",
              "       width=\"24px\">\n",
              "    <path d=\"M0 0h24v24H0V0z\" fill=\"none\"/>\n",
              "    <path d=\"M18.56 5.44l.94 2.06.94-2.06 2.06-.94-2.06-.94-.94-2.06-.94 2.06-2.06.94zm-11 1L8.5 8.5l.94-2.06 2.06-.94-2.06-.94L8.5 2.5l-.94 2.06-2.06.94zm10 10l.94 2.06.94-2.06 2.06-.94-2.06-.94-.94-2.06-.94 2.06-2.06.94z\"/><path d=\"M17.41 7.96l-1.37-1.37c-.4-.4-.92-.59-1.43-.59-.52 0-1.04.2-1.43.59L10.3 9.45l-7.72 7.72c-.78.78-.78 2.05 0 2.83L4 21.41c.39.39.9.59 1.41.59.51 0 1.02-.2 1.41-.59l7.78-7.78 2.81-2.81c.8-.78.8-2.07 0-2.86zM5.41 20L4 18.59l7.72-7.72 1.47 1.35L5.41 20z\"/>\n",
              "  </svg>\n",
              "      </button>\n",
              "      \n",
              "  <style>\n",
              "    .colab-df-container {\n",
              "      display:flex;\n",
              "      flex-wrap:wrap;\n",
              "      gap: 12px;\n",
              "    }\n",
              "\n",
              "    .colab-df-convert {\n",
              "      background-color: #E8F0FE;\n",
              "      border: none;\n",
              "      border-radius: 50%;\n",
              "      cursor: pointer;\n",
              "      display: none;\n",
              "      fill: #1967D2;\n",
              "      height: 32px;\n",
              "      padding: 0 0 0 0;\n",
              "      width: 32px;\n",
              "    }\n",
              "\n",
              "    .colab-df-convert:hover {\n",
              "      background-color: #E2EBFA;\n",
              "      box-shadow: 0px 1px 2px rgba(60, 64, 67, 0.3), 0px 1px 3px 1px rgba(60, 64, 67, 0.15);\n",
              "      fill: #174EA6;\n",
              "    }\n",
              "\n",
              "    [theme=dark] .colab-df-convert {\n",
              "      background-color: #3B4455;\n",
              "      fill: #D2E3FC;\n",
              "    }\n",
              "\n",
              "    [theme=dark] .colab-df-convert:hover {\n",
              "      background-color: #434B5C;\n",
              "      box-shadow: 0px 1px 3px 1px rgba(0, 0, 0, 0.15);\n",
              "      filter: drop-shadow(0px 1px 2px rgba(0, 0, 0, 0.3));\n",
              "      fill: #FFFFFF;\n",
              "    }\n",
              "  </style>\n",
              "\n",
              "      <script>\n",
              "        const buttonEl =\n",
              "          document.querySelector('#df-1f10b900-cf71-4f71-9c16-b713d59fce4c button.colab-df-convert');\n",
              "        buttonEl.style.display =\n",
              "          google.colab.kernel.accessAllowed ? 'block' : 'none';\n",
              "\n",
              "        async function convertToInteractive(key) {\n",
              "          const element = document.querySelector('#df-1f10b900-cf71-4f71-9c16-b713d59fce4c');\n",
              "          const dataTable =\n",
              "            await google.colab.kernel.invokeFunction('convertToInteractive',\n",
              "                                                     [key], {});\n",
              "          if (!dataTable) return;\n",
              "\n",
              "          const docLinkHtml = 'Like what you see? Visit the ' +\n",
              "            '<a target=\"_blank\" href=https://colab.research.google.com/notebooks/data_table.ipynb>data table notebook</a>'\n",
              "            + ' to learn more about interactive tables.';\n",
              "          element.innerHTML = '';\n",
              "          dataTable['output_type'] = 'display_data';\n",
              "          await google.colab.output.renderOutput(dataTable, element);\n",
              "          const docLink = document.createElement('div');\n",
              "          docLink.innerHTML = docLinkHtml;\n",
              "          element.appendChild(docLink);\n",
              "        }\n",
              "      </script>\n",
              "    </div>\n",
              "  </div>\n",
              "  "
            ]
          },
          "metadata": {},
          "execution_count": 46
        }
      ],
      "source": [
        "groping_train['lower'] = preprocess(groping_train)\n",
        "groping_train.drop(['Description'],axis=1)\n",
        "groping_test['lower'] = preprocess(groping_test)\n",
        "groping_test.drop(['Description'],axis=1)"
      ]
    },
    {
      "cell_type": "code",
      "execution_count": 47,
      "id": "2a8f9aba",
      "metadata": {
        "execution": {
          "iopub.execute_input": "2021-09-29T03:55:08.265894Z",
          "iopub.status.busy": "2021-09-29T03:55:08.265370Z",
          "iopub.status.idle": "2021-09-29T03:55:09.176479Z",
          "shell.execute_reply": "2021-09-29T03:55:09.177150Z",
          "shell.execute_reply.started": "2021-09-29T03:14:02.370583Z"
        },
        "id": "2a8f9aba",
        "papermill": {
          "duration": 0.998804,
          "end_time": "2021-09-29T03:55:09.177372",
          "exception": false,
          "start_time": "2021-09-29T03:55:08.178568",
          "status": "completed"
        },
        "tags": [],
        "colab": {
          "base_uri": "https://localhost:8080/",
          "height": 458
        },
        "outputId": "9a6d687d-6569-46cb-e16b-f409fa5ef06e"
      },
      "outputs": [
        {
          "output_type": "stream",
          "name": "stdout",
          "text": [
            "0.8617790267800789\n",
            "0.847148736037625\n"
          ]
        },
        {
          "output_type": "execute_result",
          "data": {
            "text/plain": [
              "                                            Description  Category  \\\n",
              "0     walking along crowded street holding mums hand...         1   \n",
              "1     incident took place eveningi metro two guys st...         0   \n",
              "2     waiting bus man came bike offering liftvto you...         0   \n",
              "3                        incident happened inside train         0   \n",
              "4     witnessed incident chain brutally snatched eld...         0   \n",
              "...                                                 ...       ...   \n",
              "7196  person near construction site probably laborer...         0   \n",
              "7197  threatened making inappropriate conversationth...         0   \n",
              "7198  happened morning university metro station guys...         0   \n",
              "7199  one day aunt returniec frm office  shaunt e fo...         0   \n",
              "7200                          victim sxual assault rape         0   \n",
              "\n",
              "                                                  lower  \n",
              "0     walking along crowded street holding mums hand...  \n",
              "1     incident took place eveningi metro two guys st...  \n",
              "2     waiting bus man came bike offering liftvto you...  \n",
              "3                        incident happened inside train  \n",
              "4     witnessed incident chain brutally snatched eld...  \n",
              "...                                                 ...  \n",
              "7196  person near construction site probably laborer...  \n",
              "7197  threatened making inappropriate conversationth...  \n",
              "7198  happened morning university metro station guys...  \n",
              "7199  one day aunt returniec frm office  shaunt e fo...  \n",
              "7200                          victim sxual assault rape  \n",
              "\n",
              "[6493 rows x 3 columns]"
            ],
            "text/html": [
              "\n",
              "  <div id=\"df-a600df40-6e77-40ea-ad80-0793891bc870\">\n",
              "    <div class=\"colab-df-container\">\n",
              "      <div>\n",
              "<style scoped>\n",
              "    .dataframe tbody tr th:only-of-type {\n",
              "        vertical-align: middle;\n",
              "    }\n",
              "\n",
              "    .dataframe tbody tr th {\n",
              "        vertical-align: top;\n",
              "    }\n",
              "\n",
              "    .dataframe thead th {\n",
              "        text-align: right;\n",
              "    }\n",
              "</style>\n",
              "<table border=\"1\" class=\"dataframe\">\n",
              "  <thead>\n",
              "    <tr style=\"text-align: right;\">\n",
              "      <th></th>\n",
              "      <th>Description</th>\n",
              "      <th>Category</th>\n",
              "      <th>lower</th>\n",
              "    </tr>\n",
              "  </thead>\n",
              "  <tbody>\n",
              "    <tr>\n",
              "      <th>0</th>\n",
              "      <td>walking along crowded street holding mums hand...</td>\n",
              "      <td>1</td>\n",
              "      <td>walking along crowded street holding mums hand...</td>\n",
              "    </tr>\n",
              "    <tr>\n",
              "      <th>1</th>\n",
              "      <td>incident took place eveningi metro two guys st...</td>\n",
              "      <td>0</td>\n",
              "      <td>incident took place eveningi metro two guys st...</td>\n",
              "    </tr>\n",
              "    <tr>\n",
              "      <th>2</th>\n",
              "      <td>waiting bus man came bike offering liftvto you...</td>\n",
              "      <td>0</td>\n",
              "      <td>waiting bus man came bike offering liftvto you...</td>\n",
              "    </tr>\n",
              "    <tr>\n",
              "      <th>3</th>\n",
              "      <td>incident happened inside train</td>\n",
              "      <td>0</td>\n",
              "      <td>incident happened inside train</td>\n",
              "    </tr>\n",
              "    <tr>\n",
              "      <th>4</th>\n",
              "      <td>witnessed incident chain brutally snatched eld...</td>\n",
              "      <td>0</td>\n",
              "      <td>witnessed incident chain brutally snatched eld...</td>\n",
              "    </tr>\n",
              "    <tr>\n",
              "      <th>...</th>\n",
              "      <td>...</td>\n",
              "      <td>...</td>\n",
              "      <td>...</td>\n",
              "    </tr>\n",
              "    <tr>\n",
              "      <th>7196</th>\n",
              "      <td>person near construction site probably laborer...</td>\n",
              "      <td>0</td>\n",
              "      <td>person near construction site probably laborer...</td>\n",
              "    </tr>\n",
              "    <tr>\n",
              "      <th>7197</th>\n",
              "      <td>threatened making inappropriate conversationth...</td>\n",
              "      <td>0</td>\n",
              "      <td>threatened making inappropriate conversationth...</td>\n",
              "    </tr>\n",
              "    <tr>\n",
              "      <th>7198</th>\n",
              "      <td>happened morning university metro station guys...</td>\n",
              "      <td>0</td>\n",
              "      <td>happened morning university metro station guys...</td>\n",
              "    </tr>\n",
              "    <tr>\n",
              "      <th>7199</th>\n",
              "      <td>one day aunt returniec frm office  shaunt e fo...</td>\n",
              "      <td>0</td>\n",
              "      <td>one day aunt returniec frm office  shaunt e fo...</td>\n",
              "    </tr>\n",
              "    <tr>\n",
              "      <th>7200</th>\n",
              "      <td>victim sxual assault rape</td>\n",
              "      <td>0</td>\n",
              "      <td>victim sxual assault rape</td>\n",
              "    </tr>\n",
              "  </tbody>\n",
              "</table>\n",
              "<p>6493 rows × 3 columns</p>\n",
              "</div>\n",
              "      <button class=\"colab-df-convert\" onclick=\"convertToInteractive('df-a600df40-6e77-40ea-ad80-0793891bc870')\"\n",
              "              title=\"Convert this dataframe to an interactive table.\"\n",
              "              style=\"display:none;\">\n",
              "        \n",
              "  <svg xmlns=\"http://www.w3.org/2000/svg\" height=\"24px\"viewBox=\"0 0 24 24\"\n",
              "       width=\"24px\">\n",
              "    <path d=\"M0 0h24v24H0V0z\" fill=\"none\"/>\n",
              "    <path d=\"M18.56 5.44l.94 2.06.94-2.06 2.06-.94-2.06-.94-.94-2.06-.94 2.06-2.06.94zm-11 1L8.5 8.5l.94-2.06 2.06-.94-2.06-.94L8.5 2.5l-.94 2.06-2.06.94zm10 10l.94 2.06.94-2.06 2.06-.94-2.06-.94-.94-2.06-.94 2.06-2.06.94z\"/><path d=\"M17.41 7.96l-1.37-1.37c-.4-.4-.92-.59-1.43-.59-.52 0-1.04.2-1.43.59L10.3 9.45l-7.72 7.72c-.78.78-.78 2.05 0 2.83L4 21.41c.39.39.9.59 1.41.59.51 0 1.02-.2 1.41-.59l7.78-7.78 2.81-2.81c.8-.78.8-2.07 0-2.86zM5.41 20L4 18.59l7.72-7.72 1.47 1.35L5.41 20z\"/>\n",
              "  </svg>\n",
              "      </button>\n",
              "      \n",
              "  <style>\n",
              "    .colab-df-container {\n",
              "      display:flex;\n",
              "      flex-wrap:wrap;\n",
              "      gap: 12px;\n",
              "    }\n",
              "\n",
              "    .colab-df-convert {\n",
              "      background-color: #E8F0FE;\n",
              "      border: none;\n",
              "      border-radius: 50%;\n",
              "      cursor: pointer;\n",
              "      display: none;\n",
              "      fill: #1967D2;\n",
              "      height: 32px;\n",
              "      padding: 0 0 0 0;\n",
              "      width: 32px;\n",
              "    }\n",
              "\n",
              "    .colab-df-convert:hover {\n",
              "      background-color: #E2EBFA;\n",
              "      box-shadow: 0px 1px 2px rgba(60, 64, 67, 0.3), 0px 1px 3px 1px rgba(60, 64, 67, 0.15);\n",
              "      fill: #174EA6;\n",
              "    }\n",
              "\n",
              "    [theme=dark] .colab-df-convert {\n",
              "      background-color: #3B4455;\n",
              "      fill: #D2E3FC;\n",
              "    }\n",
              "\n",
              "    [theme=dark] .colab-df-convert:hover {\n",
              "      background-color: #434B5C;\n",
              "      box-shadow: 0px 1px 3px 1px rgba(0, 0, 0, 0.15);\n",
              "      filter: drop-shadow(0px 1px 2px rgba(0, 0, 0, 0.3));\n",
              "      fill: #FFFFFF;\n",
              "    }\n",
              "  </style>\n",
              "\n",
              "      <script>\n",
              "        const buttonEl =\n",
              "          document.querySelector('#df-a600df40-6e77-40ea-ad80-0793891bc870 button.colab-df-convert');\n",
              "        buttonEl.style.display =\n",
              "          google.colab.kernel.accessAllowed ? 'block' : 'none';\n",
              "\n",
              "        async function convertToInteractive(key) {\n",
              "          const element = document.querySelector('#df-a600df40-6e77-40ea-ad80-0793891bc870');\n",
              "          const dataTable =\n",
              "            await google.colab.kernel.invokeFunction('convertToInteractive',\n",
              "                                                     [key], {});\n",
              "          if (!dataTable) return;\n",
              "\n",
              "          const docLinkHtml = 'Like what you see? Visit the ' +\n",
              "            '<a target=\"_blank\" href=https://colab.research.google.com/notebooks/data_table.ipynb>data table notebook</a>'\n",
              "            + ' to learn more about interactive tables.';\n",
              "          element.innerHTML = '';\n",
              "          dataTable['output_type'] = 'display_data';\n",
              "          await google.colab.output.renderOutput(dataTable, element);\n",
              "          const docLink = document.createElement('div');\n",
              "          docLink.innerHTML = docLinkHtml;\n",
              "          element.appendChild(docLink);\n",
              "        }\n",
              "      </script>\n",
              "    </div>\n",
              "  </div>\n",
              "  "
            ]
          },
          "metadata": {},
          "execution_count": 47
        }
      ],
      "source": [
        "Logistic_pipeline(groping_train,groping_test)\n",
        "groping_train\n",
        "\n"
      ]
    },
    {
      "cell_type": "code",
      "execution_count": 48,
      "id": "e3d78d0f",
      "metadata": {
        "colab": {
          "base_uri": "https://localhost:8080/"
        },
        "id": "e3d78d0f",
        "outputId": "d2bc127c-6e82-4e74-d18b-dfecf5175588"
      },
      "outputs": [
        {
          "output_type": "stream",
          "name": "stdout",
          "text": [
            "0.8516761834592006\n",
            "0.8465608465608465\n"
          ]
        }
      ],
      "source": [
        "XGBoost_pipeline(groping_train,groping_test)"
      ]
    },
    {
      "cell_type": "markdown",
      "id": "6e94cb7e",
      "metadata": {
        "id": "6e94cb7e",
        "papermill": {
          "duration": 0.061762,
          "end_time": "2021-09-29T03:55:11.982520",
          "exception": false,
          "start_time": "2021-09-29T03:55:11.920758",
          "status": "completed"
        },
        "tags": []
      },
      "source": [
        "***Commenting***"
      ]
    },
    {
      "cell_type": "code",
      "execution_count": 49,
      "id": "d11ee540",
      "metadata": {
        "execution": {
          "iopub.execute_input": "2021-09-29T03:55:12.126142Z",
          "iopub.status.busy": "2021-09-29T03:55:12.115657Z",
          "iopub.status.idle": "2021-09-29T03:55:12.131164Z",
          "shell.execute_reply": "2021-09-29T03:55:12.130691Z",
          "shell.execute_reply.started": "2021-09-29T03:14:05.331200Z"
        },
        "id": "d11ee540",
        "outputId": "8d357be4-b002-4289-ce8f-4ce69d365880",
        "papermill": {
          "duration": 0.087176,
          "end_time": "2021-09-29T03:55:12.131272",
          "exception": false,
          "start_time": "2021-09-29T03:55:12.044096",
          "status": "completed"
        },
        "tags": [],
        "colab": {
          "base_uri": "https://localhost:8080/",
          "height": 423
        }
      },
      "outputs": [
        {
          "output_type": "execute_result",
          "data": {
            "text/plain": [
              "      Category                                              lower\n",
              "0            1  morning woman walking thin guy came around cal...\n",
              "1            0          man tried brush penis womans shoulder bus\n",
              "2            0  happened fellow passenger mine travelling metr...\n",
              "3            0                                             ogling\n",
              "4            0  returning home finishing class queue get micro...\n",
              "...        ...                                                ...\n",
              "1696         1                           obscene comments staring\n",
              "1697         1  going friend metro morning group boys started ...\n",
              "1698         0  person tried grab walkng railway station stati...\n",
              "1699         0  bad people touched private parts ranchibhagalp...\n",
              "1700         0    age 16 yearstype harassment catcalls leh market\n",
              "\n",
              "[1701 rows x 2 columns]"
            ],
            "text/html": [
              "\n",
              "  <div id=\"df-cb46a6d9-383a-4a12-b40f-0d216c426116\">\n",
              "    <div class=\"colab-df-container\">\n",
              "      <div>\n",
              "<style scoped>\n",
              "    .dataframe tbody tr th:only-of-type {\n",
              "        vertical-align: middle;\n",
              "    }\n",
              "\n",
              "    .dataframe tbody tr th {\n",
              "        vertical-align: top;\n",
              "    }\n",
              "\n",
              "    .dataframe thead th {\n",
              "        text-align: right;\n",
              "    }\n",
              "</style>\n",
              "<table border=\"1\" class=\"dataframe\">\n",
              "  <thead>\n",
              "    <tr style=\"text-align: right;\">\n",
              "      <th></th>\n",
              "      <th>Category</th>\n",
              "      <th>lower</th>\n",
              "    </tr>\n",
              "  </thead>\n",
              "  <tbody>\n",
              "    <tr>\n",
              "      <th>0</th>\n",
              "      <td>1</td>\n",
              "      <td>morning woman walking thin guy came around cal...</td>\n",
              "    </tr>\n",
              "    <tr>\n",
              "      <th>1</th>\n",
              "      <td>0</td>\n",
              "      <td>man tried brush penis womans shoulder bus</td>\n",
              "    </tr>\n",
              "    <tr>\n",
              "      <th>2</th>\n",
              "      <td>0</td>\n",
              "      <td>happened fellow passenger mine travelling metr...</td>\n",
              "    </tr>\n",
              "    <tr>\n",
              "      <th>3</th>\n",
              "      <td>0</td>\n",
              "      <td>ogling</td>\n",
              "    </tr>\n",
              "    <tr>\n",
              "      <th>4</th>\n",
              "      <td>0</td>\n",
              "      <td>returning home finishing class queue get micro...</td>\n",
              "    </tr>\n",
              "    <tr>\n",
              "      <th>...</th>\n",
              "      <td>...</td>\n",
              "      <td>...</td>\n",
              "    </tr>\n",
              "    <tr>\n",
              "      <th>1696</th>\n",
              "      <td>1</td>\n",
              "      <td>obscene comments staring</td>\n",
              "    </tr>\n",
              "    <tr>\n",
              "      <th>1697</th>\n",
              "      <td>1</td>\n",
              "      <td>going friend metro morning group boys started ...</td>\n",
              "    </tr>\n",
              "    <tr>\n",
              "      <th>1698</th>\n",
              "      <td>0</td>\n",
              "      <td>person tried grab walkng railway station stati...</td>\n",
              "    </tr>\n",
              "    <tr>\n",
              "      <th>1699</th>\n",
              "      <td>0</td>\n",
              "      <td>bad people touched private parts ranchibhagalp...</td>\n",
              "    </tr>\n",
              "    <tr>\n",
              "      <th>1700</th>\n",
              "      <td>0</td>\n",
              "      <td>age 16 yearstype harassment catcalls leh market</td>\n",
              "    </tr>\n",
              "  </tbody>\n",
              "</table>\n",
              "<p>1701 rows × 2 columns</p>\n",
              "</div>\n",
              "      <button class=\"colab-df-convert\" onclick=\"convertToInteractive('df-cb46a6d9-383a-4a12-b40f-0d216c426116')\"\n",
              "              title=\"Convert this dataframe to an interactive table.\"\n",
              "              style=\"display:none;\">\n",
              "        \n",
              "  <svg xmlns=\"http://www.w3.org/2000/svg\" height=\"24px\"viewBox=\"0 0 24 24\"\n",
              "       width=\"24px\">\n",
              "    <path d=\"M0 0h24v24H0V0z\" fill=\"none\"/>\n",
              "    <path d=\"M18.56 5.44l.94 2.06.94-2.06 2.06-.94-2.06-.94-.94-2.06-.94 2.06-2.06.94zm-11 1L8.5 8.5l.94-2.06 2.06-.94-2.06-.94L8.5 2.5l-.94 2.06-2.06.94zm10 10l.94 2.06.94-2.06 2.06-.94-2.06-.94-.94-2.06-.94 2.06-2.06.94z\"/><path d=\"M17.41 7.96l-1.37-1.37c-.4-.4-.92-.59-1.43-.59-.52 0-1.04.2-1.43.59L10.3 9.45l-7.72 7.72c-.78.78-.78 2.05 0 2.83L4 21.41c.39.39.9.59 1.41.59.51 0 1.02-.2 1.41-.59l7.78-7.78 2.81-2.81c.8-.78.8-2.07 0-2.86zM5.41 20L4 18.59l7.72-7.72 1.47 1.35L5.41 20z\"/>\n",
              "  </svg>\n",
              "      </button>\n",
              "      \n",
              "  <style>\n",
              "    .colab-df-container {\n",
              "      display:flex;\n",
              "      flex-wrap:wrap;\n",
              "      gap: 12px;\n",
              "    }\n",
              "\n",
              "    .colab-df-convert {\n",
              "      background-color: #E8F0FE;\n",
              "      border: none;\n",
              "      border-radius: 50%;\n",
              "      cursor: pointer;\n",
              "      display: none;\n",
              "      fill: #1967D2;\n",
              "      height: 32px;\n",
              "      padding: 0 0 0 0;\n",
              "      width: 32px;\n",
              "    }\n",
              "\n",
              "    .colab-df-convert:hover {\n",
              "      background-color: #E2EBFA;\n",
              "      box-shadow: 0px 1px 2px rgba(60, 64, 67, 0.3), 0px 1px 3px 1px rgba(60, 64, 67, 0.15);\n",
              "      fill: #174EA6;\n",
              "    }\n",
              "\n",
              "    [theme=dark] .colab-df-convert {\n",
              "      background-color: #3B4455;\n",
              "      fill: #D2E3FC;\n",
              "    }\n",
              "\n",
              "    [theme=dark] .colab-df-convert:hover {\n",
              "      background-color: #434B5C;\n",
              "      box-shadow: 0px 1px 3px 1px rgba(0, 0, 0, 0.15);\n",
              "      filter: drop-shadow(0px 1px 2px rgba(0, 0, 0, 0.3));\n",
              "      fill: #FFFFFF;\n",
              "    }\n",
              "  </style>\n",
              "\n",
              "      <script>\n",
              "        const buttonEl =\n",
              "          document.querySelector('#df-cb46a6d9-383a-4a12-b40f-0d216c426116 button.colab-df-convert');\n",
              "        buttonEl.style.display =\n",
              "          google.colab.kernel.accessAllowed ? 'block' : 'none';\n",
              "\n",
              "        async function convertToInteractive(key) {\n",
              "          const element = document.querySelector('#df-cb46a6d9-383a-4a12-b40f-0d216c426116');\n",
              "          const dataTable =\n",
              "            await google.colab.kernel.invokeFunction('convertToInteractive',\n",
              "                                                     [key], {});\n",
              "          if (!dataTable) return;\n",
              "\n",
              "          const docLinkHtml = 'Like what you see? Visit the ' +\n",
              "            '<a target=\"_blank\" href=https://colab.research.google.com/notebooks/data_table.ipynb>data table notebook</a>'\n",
              "            + ' to learn more about interactive tables.';\n",
              "          element.innerHTML = '';\n",
              "          dataTable['output_type'] = 'display_data';\n",
              "          await google.colab.output.renderOutput(dataTable, element);\n",
              "          const docLink = document.createElement('div');\n",
              "          docLink.innerHTML = docLinkHtml;\n",
              "          element.appendChild(docLink);\n",
              "        }\n",
              "      </script>\n",
              "    </div>\n",
              "  </div>\n",
              "  "
            ]
          },
          "metadata": {},
          "execution_count": 49
        }
      ],
      "source": [
        "com_f_tra['lower'] = preprocess(com_f_tra)\n",
        "com_f_tra.drop(['Description'],axis=1)\n",
        "com_f_tes['lower'] = preprocess(com_f_tes)\n",
        "com_f_tes.drop(['Description'],axis=1)"
      ]
    },
    {
      "cell_type": "code",
      "execution_count": 50,
      "id": "2629e686",
      "metadata": {
        "execution": {
          "iopub.execute_input": "2021-09-29T03:55:12.284666Z",
          "iopub.status.busy": "2021-09-29T03:55:12.264698Z",
          "iopub.status.idle": "2021-09-29T03:55:15.193123Z",
          "shell.execute_reply": "2021-09-29T03:55:15.192663Z",
          "shell.execute_reply.started": "2021-09-29T03:14:05.355791Z"
        },
        "id": "2629e686",
        "papermill": {
          "duration": 2.999529,
          "end_time": "2021-09-29T03:55:15.193255",
          "exception": false,
          "start_time": "2021-09-29T03:55:12.193726",
          "status": "completed"
        },
        "tags": [],
        "colab": {
          "base_uri": "https://localhost:8080/"
        },
        "outputId": "7f897256-8c0c-48e8-d5ff-5c5307afd743"
      },
      "outputs": [
        {
          "output_type": "stream",
          "name": "stdout",
          "text": [
            "Logistic regression ROC and accuracy scores are\n",
            "0.7982437352752196\n",
            "0.7924750146972369\n",
            "XGBoost ROC and accuracy scores are\n",
            "0.7919362854390545\n",
            "0.7871840094062317\n"
          ]
        }
      ],
      "source": [
        "print('Logistic regression ROC and accuracy scores are')\n",
        "Logistic_pipeline(com_f_tra,com_f_tes)\n",
        "print('XGBoost ROC and accuracy scores are')\n",
        "XGBoost_pipeline(com_f_tra,com_f_tes)"
      ]
    },
    {
      "cell_type": "markdown",
      "id": "00acb8f8",
      "metadata": {
        "papermill": {
          "duration": 0.071746,
          "end_time": "2021-09-29T03:55:15.458016",
          "exception": false,
          "start_time": "2021-09-29T03:55:15.386270",
          "status": "completed"
        },
        "tags": [],
        "id": "00acb8f8"
      },
      "source": [
        "**Multi label classification**\n"
      ]
    },
    {
      "cell_type": "code",
      "execution_count": 51,
      "id": "02a50995",
      "metadata": {
        "execution": {
          "iopub.execute_input": "2021-09-29T03:55:15.683834Z",
          "iopub.status.busy": "2021-09-29T03:55:15.683046Z",
          "iopub.status.idle": "2021-09-29T03:55:15.691834Z",
          "shell.execute_reply": "2021-09-29T03:55:15.692798Z",
          "shell.execute_reply.started": "2021-09-29T03:14:08.329726Z"
        },
        "papermill": {
          "duration": 0.125528,
          "end_time": "2021-09-29T03:55:15.692998",
          "exception": false,
          "start_time": "2021-09-29T03:55:15.567470",
          "status": "completed"
        },
        "tags": [],
        "colab": {
          "base_uri": "https://localhost:8080/",
          "height": 423
        },
        "id": "02a50995",
        "outputId": "dd399bec-7da6-4964-f2b4-99e8fdd122cd"
      },
      "outputs": [
        {
          "output_type": "execute_result",
          "data": {
            "text/plain": [
              "                                            Description  Commenting  Ogling  \\\n",
              "0     walking along crowded street holding mums hand...           0       0   \n",
              "1     incident took place eveningi metro two guys st...           0       1   \n",
              "2     waiting bus man came bike offering liftvto you...           1       0   \n",
              "3                        incident happened inside train           0       0   \n",
              "4     witnessed incident chain brutally snatched eld...           0       0   \n",
              "...                                                 ...         ...     ...   \n",
              "7196  person near construction site probably laborer...           0       1   \n",
              "7197  threatened making inappropriate conversationth...           1       0   \n",
              "7198  happened morning university metro station guys...           1       0   \n",
              "7199  one day aunt returniec frm office  shaunt e fo...           0       0   \n",
              "7200                          victim sxual assault rape           0       0   \n",
              "\n",
              "      Groping  \n",
              "0           1  \n",
              "1           0  \n",
              "2           0  \n",
              "3           0  \n",
              "4           0  \n",
              "...       ...  \n",
              "7196        0  \n",
              "7197        0  \n",
              "7198        0  \n",
              "7199        0  \n",
              "7200        0  \n",
              "\n",
              "[6493 rows x 4 columns]"
            ],
            "text/html": [
              "\n",
              "  <div id=\"df-78f6a484-c9f3-4a9d-920d-6ffc13b37158\">\n",
              "    <div class=\"colab-df-container\">\n",
              "      <div>\n",
              "<style scoped>\n",
              "    .dataframe tbody tr th:only-of-type {\n",
              "        vertical-align: middle;\n",
              "    }\n",
              "\n",
              "    .dataframe tbody tr th {\n",
              "        vertical-align: top;\n",
              "    }\n",
              "\n",
              "    .dataframe thead th {\n",
              "        text-align: right;\n",
              "    }\n",
              "</style>\n",
              "<table border=\"1\" class=\"dataframe\">\n",
              "  <thead>\n",
              "    <tr style=\"text-align: right;\">\n",
              "      <th></th>\n",
              "      <th>Description</th>\n",
              "      <th>Commenting</th>\n",
              "      <th>Ogling</th>\n",
              "      <th>Groping</th>\n",
              "    </tr>\n",
              "  </thead>\n",
              "  <tbody>\n",
              "    <tr>\n",
              "      <th>0</th>\n",
              "      <td>walking along crowded street holding mums hand...</td>\n",
              "      <td>0</td>\n",
              "      <td>0</td>\n",
              "      <td>1</td>\n",
              "    </tr>\n",
              "    <tr>\n",
              "      <th>1</th>\n",
              "      <td>incident took place eveningi metro two guys st...</td>\n",
              "      <td>0</td>\n",
              "      <td>1</td>\n",
              "      <td>0</td>\n",
              "    </tr>\n",
              "    <tr>\n",
              "      <th>2</th>\n",
              "      <td>waiting bus man came bike offering liftvto you...</td>\n",
              "      <td>1</td>\n",
              "      <td>0</td>\n",
              "      <td>0</td>\n",
              "    </tr>\n",
              "    <tr>\n",
              "      <th>3</th>\n",
              "      <td>incident happened inside train</td>\n",
              "      <td>0</td>\n",
              "      <td>0</td>\n",
              "      <td>0</td>\n",
              "    </tr>\n",
              "    <tr>\n",
              "      <th>4</th>\n",
              "      <td>witnessed incident chain brutally snatched eld...</td>\n",
              "      <td>0</td>\n",
              "      <td>0</td>\n",
              "      <td>0</td>\n",
              "    </tr>\n",
              "    <tr>\n",
              "      <th>...</th>\n",
              "      <td>...</td>\n",
              "      <td>...</td>\n",
              "      <td>...</td>\n",
              "      <td>...</td>\n",
              "    </tr>\n",
              "    <tr>\n",
              "      <th>7196</th>\n",
              "      <td>person near construction site probably laborer...</td>\n",
              "      <td>0</td>\n",
              "      <td>1</td>\n",
              "      <td>0</td>\n",
              "    </tr>\n",
              "    <tr>\n",
              "      <th>7197</th>\n",
              "      <td>threatened making inappropriate conversationth...</td>\n",
              "      <td>1</td>\n",
              "      <td>0</td>\n",
              "      <td>0</td>\n",
              "    </tr>\n",
              "    <tr>\n",
              "      <th>7198</th>\n",
              "      <td>happened morning university metro station guys...</td>\n",
              "      <td>1</td>\n",
              "      <td>0</td>\n",
              "      <td>0</td>\n",
              "    </tr>\n",
              "    <tr>\n",
              "      <th>7199</th>\n",
              "      <td>one day aunt returniec frm office  shaunt e fo...</td>\n",
              "      <td>0</td>\n",
              "      <td>0</td>\n",
              "      <td>0</td>\n",
              "    </tr>\n",
              "    <tr>\n",
              "      <th>7200</th>\n",
              "      <td>victim sxual assault rape</td>\n",
              "      <td>0</td>\n",
              "      <td>0</td>\n",
              "      <td>0</td>\n",
              "    </tr>\n",
              "  </tbody>\n",
              "</table>\n",
              "<p>6493 rows × 4 columns</p>\n",
              "</div>\n",
              "      <button class=\"colab-df-convert\" onclick=\"convertToInteractive('df-78f6a484-c9f3-4a9d-920d-6ffc13b37158')\"\n",
              "              title=\"Convert this dataframe to an interactive table.\"\n",
              "              style=\"display:none;\">\n",
              "        \n",
              "  <svg xmlns=\"http://www.w3.org/2000/svg\" height=\"24px\"viewBox=\"0 0 24 24\"\n",
              "       width=\"24px\">\n",
              "    <path d=\"M0 0h24v24H0V0z\" fill=\"none\"/>\n",
              "    <path d=\"M18.56 5.44l.94 2.06.94-2.06 2.06-.94-2.06-.94-.94-2.06-.94 2.06-2.06.94zm-11 1L8.5 8.5l.94-2.06 2.06-.94-2.06-.94L8.5 2.5l-.94 2.06-2.06.94zm10 10l.94 2.06.94-2.06 2.06-.94-2.06-.94-.94-2.06-.94 2.06-2.06.94z\"/><path d=\"M17.41 7.96l-1.37-1.37c-.4-.4-.92-.59-1.43-.59-.52 0-1.04.2-1.43.59L10.3 9.45l-7.72 7.72c-.78.78-.78 2.05 0 2.83L4 21.41c.39.39.9.59 1.41.59.51 0 1.02-.2 1.41-.59l7.78-7.78 2.81-2.81c.8-.78.8-2.07 0-2.86zM5.41 20L4 18.59l7.72-7.72 1.47 1.35L5.41 20z\"/>\n",
              "  </svg>\n",
              "      </button>\n",
              "      \n",
              "  <style>\n",
              "    .colab-df-container {\n",
              "      display:flex;\n",
              "      flex-wrap:wrap;\n",
              "      gap: 12px;\n",
              "    }\n",
              "\n",
              "    .colab-df-convert {\n",
              "      background-color: #E8F0FE;\n",
              "      border: none;\n",
              "      border-radius: 50%;\n",
              "      cursor: pointer;\n",
              "      display: none;\n",
              "      fill: #1967D2;\n",
              "      height: 32px;\n",
              "      padding: 0 0 0 0;\n",
              "      width: 32px;\n",
              "    }\n",
              "\n",
              "    .colab-df-convert:hover {\n",
              "      background-color: #E2EBFA;\n",
              "      box-shadow: 0px 1px 2px rgba(60, 64, 67, 0.3), 0px 1px 3px 1px rgba(60, 64, 67, 0.15);\n",
              "      fill: #174EA6;\n",
              "    }\n",
              "\n",
              "    [theme=dark] .colab-df-convert {\n",
              "      background-color: #3B4455;\n",
              "      fill: #D2E3FC;\n",
              "    }\n",
              "\n",
              "    [theme=dark] .colab-df-convert:hover {\n",
              "      background-color: #434B5C;\n",
              "      box-shadow: 0px 1px 3px 1px rgba(0, 0, 0, 0.15);\n",
              "      filter: drop-shadow(0px 1px 2px rgba(0, 0, 0, 0.3));\n",
              "      fill: #FFFFFF;\n",
              "    }\n",
              "  </style>\n",
              "\n",
              "      <script>\n",
              "        const buttonEl =\n",
              "          document.querySelector('#df-78f6a484-c9f3-4a9d-920d-6ffc13b37158 button.colab-df-convert');\n",
              "        buttonEl.style.display =\n",
              "          google.colab.kernel.accessAllowed ? 'block' : 'none';\n",
              "\n",
              "        async function convertToInteractive(key) {\n",
              "          const element = document.querySelector('#df-78f6a484-c9f3-4a9d-920d-6ffc13b37158');\n",
              "          const dataTable =\n",
              "            await google.colab.kernel.invokeFunction('convertToInteractive',\n",
              "                                                     [key], {});\n",
              "          if (!dataTable) return;\n",
              "\n",
              "          const docLinkHtml = 'Like what you see? Visit the ' +\n",
              "            '<a target=\"_blank\" href=https://colab.research.google.com/notebooks/data_table.ipynb>data table notebook</a>'\n",
              "            + ' to learn more about interactive tables.';\n",
              "          element.innerHTML = '';\n",
              "          dataTable['output_type'] = 'display_data';\n",
              "          await google.colab.output.renderOutput(dataTable, element);\n",
              "          const docLink = document.createElement('div');\n",
              "          docLink.innerHTML = docLinkHtml;\n",
              "          element.appendChild(docLink);\n",
              "        }\n",
              "      </script>\n",
              "    </div>\n",
              "  </div>\n",
              "  "
            ]
          },
          "metadata": {},
          "execution_count": 51
        }
      ],
      "source": [
        "rena\n"
      ]
    },
    {
      "cell_type": "code",
      "execution_count": 53,
      "id": "fec8ee12",
      "metadata": {
        "id": "fec8ee12"
      },
      "outputs": [],
      "source": [
        "test_df = pnd.read_csv(\"/test.csv\")"
      ]
    },
    {
      "cell_type": "code",
      "execution_count": 54,
      "id": "757f9e72",
      "metadata": {
        "execution": {
          "iopub.execute_input": "2021-09-29T03:55:15.913424Z",
          "iopub.status.busy": "2021-09-29T03:55:15.912643Z",
          "iopub.status.idle": "2021-09-29T03:55:16.487469Z",
          "shell.execute_reply": "2021-09-29T03:55:16.486732Z",
          "shell.execute_reply.started": "2021-09-29T03:14:08.344227Z"
        },
        "papermill": {
          "duration": 0.689676,
          "end_time": "2021-09-29T03:55:16.487612",
          "exception": false,
          "start_time": "2021-09-29T03:55:15.797936",
          "status": "completed"
        },
        "tags": [],
        "id": "757f9e72"
      },
      "outputs": [],
      "source": [
        "rena['lower'] = preprocess(rena)\n",
        "test_df['lower'] = preprocess(test_df)\n",
        "rena.drop(['Description'],axis=1)\n",
        "test_df.drop(['Description'],axis=1)\n",
        "X = rena['lower']\n",
        "y = rena[['Commenting','Ogling','Groping']]\n",
        "from sklearn.model_selection import train_test_split\n",
        "#Oglin_Train,Ogling_Test,y_training,y_testing = train_test_split(X,y,test_size=0.25)\n",
        "from sklearn.feature_extraction.text import TfidfVectorizer\n",
        "stop = stopwords.words('english') + stopwords.words('spanish')\n",
        "vect = TfidfVectorizer(ngram_range=(1,2), min_df=10, max_features=1000, stop_words=stop)\n",
        "\n",
        "Oglin_Train = vect.fit_transform(X)\n",
        "Ogling_Test = vect.transform(test_df['lower'])"
      ]
    },
    {
      "cell_type": "code",
      "execution_count": 55,
      "id": "34afeae4",
      "metadata": {
        "execution": {
          "iopub.execute_input": "2021-09-29T03:55:16.758371Z",
          "iopub.status.busy": "2021-09-29T03:55:16.757662Z",
          "iopub.status.idle": "2021-09-29T03:57:16.520143Z",
          "shell.execute_reply": "2021-09-29T03:57:16.519284Z",
          "shell.execute_reply.started": "2021-09-29T03:14:08.942998Z"
        },
        "id": "34afeae4",
        "papermill": {
          "duration": 119.831615,
          "end_time": "2021-09-29T03:57:16.520359",
          "exception": false,
          "start_time": "2021-09-29T03:55:16.688744",
          "status": "completed"
        },
        "tags": [],
        "colab": {
          "base_uri": "https://localhost:8080/"
        },
        "outputId": "e0e6d618-f63e-4f84-86f8-94b4f1b8fdbf"
      },
      "outputs": [
        {
          "output_type": "stream",
          "name": "stdout",
          "text": [
            "Looking in indexes: https://pypi.org/simple, https://us-python.pkg.dev/colab-wheels/public/simple/\n",
            "Collecting scikit-multilearn\n",
            "  Downloading scikit_multilearn-0.2.0-py3-none-any.whl (89 kB)\n",
            "\u001b[2K     \u001b[90m━━━━━━━━━━━━━━━━━━━━━━━━━━━━━━━━━━━━━━━━\u001b[0m \u001b[32m89.4/89.4 kB\u001b[0m \u001b[31m4.9 MB/s\u001b[0m eta \u001b[36m0:00:00\u001b[0m\n",
            "\u001b[?25hInstalling collected packages: scikit-multilearn\n",
            "Successfully installed scikit-multilearn-0.2.0\n"
          ]
        }
      ],
      "source": [
        "!pip install scikit-multilearn\n",
        "from skmultilearn.problem_transform import BinaryRelevance\n",
        "from sklearn.svm import SVC\n",
        "from sklearn.ensemble import RandomForestClassifier\n",
        "classifier = BinaryRelevance(classifier=SVC())\n",
        "classifier.fit(Oglin_Train,y)\n",
        "predictions = classifier.predict(Ogling_Test) \n",
        "l_og_istic= BinaryRelevance(classifier=RandomForestClassifier())\n",
        "l_og_istic.fit(Oglin_Train,y)\n",
        "predictions_rf = l_og_istic.predict(Ogling_Test)\n",
        "model = BinaryRelevance(classifier=XGBClassifier())\n",
        "model.fit(Oglin_Train,y)\n",
        "predictions_xgb = model.predict(Ogling_Test)"
      ]
    },
    {
      "cell_type": "code",
      "execution_count": 65,
      "id": "09eea176",
      "metadata": {
        "execution": {
          "iopub.execute_input": "2021-09-29T03:57:16.774283Z",
          "iopub.status.busy": "2021-09-29T03:57:16.773460Z",
          "iopub.status.idle": "2021-09-29T03:57:16.805798Z",
          "shell.execute_reply": "2021-09-29T03:57:16.806492Z",
          "shell.execute_reply.started": "2021-09-29T03:16:13.984795Z"
        },
        "papermill": {
          "duration": 0.156487,
          "end_time": "2021-09-29T03:57:16.806678",
          "exception": false,
          "start_time": "2021-09-29T03:57:16.650191",
          "status": "completed"
        },
        "tags": [],
        "colab": {
          "base_uri": "https://localhost:8080/"
        },
        "id": "09eea176",
        "outputId": "bf85102c-79b8-4041-8dba-cd8f1a890792"
      },
      "outputs": [
        {
          "output_type": "stream",
          "name": "stdout",
          "text": [
            "0.8415501632149733\n",
            "0.6213991769547325\n",
            "---------------------RF-----------------\n",
            "0.8014293631489684\n",
            "0.599647266313933\n",
            "---------------------XGB-----------------\n",
            "0.8252066722812104\n",
            "0.612580834803057\n"
          ]
        }
      ],
      "source": [
        "y_testing = test_df[['Commenting','Ogling/Facial Expressions/Staring','Touching /Groping']]\n",
        "score = roc_auc_score(predictions.toarray(),y_testing)\n",
        "print(score)\n",
        "ac = accuracy_score(y_testing, predictions.toarray())\n",
        "print(ac)\n",
        "print('---------------------RF-----------------')\n",
        "score = roc_auc_score(predictions_rf.toarray(),y_testing)\n",
        "print(score)\n",
        "ac = accuracy_score(y_testing, predictions_rf.toarray())\n",
        "print(ac)\n",
        "print('---------------------XGB-----------------')\n",
        "score = roc_auc_score(predictions_xgb.toarray(),y_testing)\n",
        "print(score)\n",
        "ac = accuracy_score(y_testing, predictions_xgb.toarray())\n",
        "print(ac)\n"
      ]
    },
    {
      "cell_type": "code",
      "execution_count": 66,
      "id": "744ccd6a",
      "metadata": {
        "execution": {
          "iopub.execute_input": "2021-09-29T03:57:17.032994Z",
          "iopub.status.busy": "2021-09-29T03:57:17.032451Z",
          "iopub.status.idle": "2021-09-29T03:57:17.041724Z",
          "shell.execute_reply": "2021-09-29T03:57:17.041115Z",
          "shell.execute_reply.started": "2021-09-29T03:16:14.017747Z"
        },
        "papermill": {
          "duration": 0.127308,
          "end_time": "2021-09-29T03:57:17.041881",
          "exception": false,
          "start_time": "2021-09-29T03:57:16.914573",
          "status": "completed"
        },
        "tags": [],
        "colab": {
          "base_uri": "https://localhost:8080/"
        },
        "id": "744ccd6a",
        "outputId": "d3d7890e-ae57-4d1f-bd5d-0fe64a4fb1e6"
      },
      "outputs": [
        {
          "output_type": "stream",
          "name": "stdout",
          "text": [
            "The hamming loss is:0.1675485008818342\n",
            "The hamming sc is:  0.8324514991181657\n",
            "---------------------XGB-----------------\n",
            "The hamming loss is:0.1700960219478738\n",
            "The hamming sc is:  0.8299039780521262\n"
          ]
        }
      ],
      "source": [
        "from sklearn.metrics import hamming_loss\n",
        "ham = hamming_loss(y_testing, predictions.toarray())\n",
        "print('The hamming loss is:{}'.format(ham))\n",
        "print('The hamming sc is: ',1-(ham))\n",
        "print('---------------------XGB-----------------')\n",
        "ham = hamming_loss(y_testing, predictions_xgb.toarray())\n",
        "print('The hamming loss is:{}'.format(ham))\n",
        "print('The hamming sc is: ',1-(ham))"
      ]
    },
    {
      "cell_type": "code",
      "execution_count": 58,
      "id": "2cefdc8f",
      "metadata": {
        "execution": {
          "iopub.execute_input": "2021-09-29T03:16:14.036484Z",
          "iopub.status.busy": "2021-09-29T03:16:14.036271Z",
          "iopub.status.idle": "2021-09-29T03:16:14.043243Z",
          "shell.execute_reply": "2021-09-29T03:16:14.042103Z",
          "shell.execute_reply.started": "2021-09-29T03:16:14.036460Z"
        },
        "papermill": {
          "duration": 0.06606,
          "end_time": "2021-09-29T03:57:17.174566",
          "exception": false,
          "start_time": "2021-09-29T03:57:17.108506",
          "status": "completed"
        },
        "tags": [],
        "colab": {
          "base_uri": "https://localhost:8080/"
        },
        "id": "2cefdc8f",
        "outputId": "7f24ce58-4659-44d2-951b-b706b4df628a"
      },
      "outputs": [
        {
          "output_type": "stream",
          "name": "stdout",
          "text": [
            "Looking in indexes: https://pypi.org/simple, https://us-python.pkg.dev/colab-wheels/public/simple/\n",
            "Requirement already satisfied: tensorflow_hub in /usr/local/lib/python3.10/dist-packages (0.13.0)\n",
            "Requirement already satisfied: numpy>=1.12.0 in /usr/local/lib/python3.10/dist-packages (from tensorflow_hub) (1.22.4)\n",
            "Requirement already satisfied: protobuf>=3.19.6 in /usr/local/lib/python3.10/dist-packages (from tensorflow_hub) (3.20.3)\n",
            "Looking in indexes: https://pypi.org/simple, https://us-python.pkg.dev/colab-wheels/public/simple/\n",
            "Requirement already satisfied: tensorflow in /usr/local/lib/python3.10/dist-packages (2.12.0)\n",
            "Requirement already satisfied: protobuf!=4.21.0,!=4.21.1,!=4.21.2,!=4.21.3,!=4.21.4,!=4.21.5,<5.0.0dev,>=3.20.3 in /usr/local/lib/python3.10/dist-packages (from tensorflow) (3.20.3)\n",
            "Requirement already satisfied: libclang>=13.0.0 in /usr/local/lib/python3.10/dist-packages (from tensorflow) (16.0.0)\n",
            "Requirement already satisfied: jax>=0.3.15 in /usr/local/lib/python3.10/dist-packages (from tensorflow) (0.4.8)\n",
            "Requirement already satisfied: termcolor>=1.1.0 in /usr/local/lib/python3.10/dist-packages (from tensorflow) (2.3.0)\n",
            "Requirement already satisfied: keras<2.13,>=2.12.0 in /usr/local/lib/python3.10/dist-packages (from tensorflow) (2.12.0)\n",
            "Requirement already satisfied: tensorboard<2.13,>=2.12 in /usr/local/lib/python3.10/dist-packages (from tensorflow) (2.12.2)\n",
            "Requirement already satisfied: setuptools in /usr/local/lib/python3.10/dist-packages (from tensorflow) (67.7.2)\n",
            "Requirement already satisfied: opt-einsum>=2.3.2 in /usr/local/lib/python3.10/dist-packages (from tensorflow) (3.3.0)\n",
            "Requirement already satisfied: packaging in /usr/local/lib/python3.10/dist-packages (from tensorflow) (23.1)\n",
            "Requirement already satisfied: astunparse>=1.6.0 in /usr/local/lib/python3.10/dist-packages (from tensorflow) (1.6.3)\n",
            "Requirement already satisfied: typing-extensions>=3.6.6 in /usr/local/lib/python3.10/dist-packages (from tensorflow) (4.5.0)\n",
            "Requirement already satisfied: tensorflow-io-gcs-filesystem>=0.23.1 in /usr/local/lib/python3.10/dist-packages (from tensorflow) (0.32.0)\n",
            "Requirement already satisfied: gast<=0.4.0,>=0.2.1 in /usr/local/lib/python3.10/dist-packages (from tensorflow) (0.4.0)\n",
            "Requirement already satisfied: absl-py>=1.0.0 in /usr/local/lib/python3.10/dist-packages (from tensorflow) (1.4.0)\n",
            "Requirement already satisfied: flatbuffers>=2.0 in /usr/local/lib/python3.10/dist-packages (from tensorflow) (23.3.3)\n",
            "Requirement already satisfied: google-pasta>=0.1.1 in /usr/local/lib/python3.10/dist-packages (from tensorflow) (0.2.0)\n",
            "Requirement already satisfied: six>=1.12.0 in /usr/local/lib/python3.10/dist-packages (from tensorflow) (1.16.0)\n",
            "Requirement already satisfied: h5py>=2.9.0 in /usr/local/lib/python3.10/dist-packages (from tensorflow) (3.8.0)\n",
            "Requirement already satisfied: numpy<1.24,>=1.22 in /usr/local/lib/python3.10/dist-packages (from tensorflow) (1.22.4)\n",
            "Requirement already satisfied: grpcio<2.0,>=1.24.3 in /usr/local/lib/python3.10/dist-packages (from tensorflow) (1.54.0)\n",
            "Requirement already satisfied: tensorflow-estimator<2.13,>=2.12.0 in /usr/local/lib/python3.10/dist-packages (from tensorflow) (2.12.0)\n",
            "Requirement already satisfied: wrapt<1.15,>=1.11.0 in /usr/local/lib/python3.10/dist-packages (from tensorflow) (1.14.1)\n",
            "Requirement already satisfied: wheel<1.0,>=0.23.0 in /usr/local/lib/python3.10/dist-packages (from astunparse>=1.6.0->tensorflow) (0.40.0)\n",
            "Requirement already satisfied: ml-dtypes>=0.0.3 in /usr/local/lib/python3.10/dist-packages (from jax>=0.3.15->tensorflow) (0.1.0)\n",
            "Requirement already satisfied: scipy>=1.7 in /usr/local/lib/python3.10/dist-packages (from jax>=0.3.15->tensorflow) (1.10.1)\n",
            "Requirement already satisfied: google-auth-oauthlib<1.1,>=0.5 in /usr/local/lib/python3.10/dist-packages (from tensorboard<2.13,>=2.12->tensorflow) (1.0.0)\n",
            "Requirement already satisfied: requests<3,>=2.21.0 in /usr/local/lib/python3.10/dist-packages (from tensorboard<2.13,>=2.12->tensorflow) (2.27.1)\n",
            "Requirement already satisfied: markdown>=2.6.8 in /usr/local/lib/python3.10/dist-packages (from tensorboard<2.13,>=2.12->tensorflow) (3.4.3)\n",
            "Requirement already satisfied: tensorboard-plugin-wit>=1.6.0 in /usr/local/lib/python3.10/dist-packages (from tensorboard<2.13,>=2.12->tensorflow) (1.8.1)\n",
            "Requirement already satisfied: werkzeug>=1.0.1 in /usr/local/lib/python3.10/dist-packages (from tensorboard<2.13,>=2.12->tensorflow) (2.3.0)\n",
            "Requirement already satisfied: google-auth<3,>=1.6.3 in /usr/local/lib/python3.10/dist-packages (from tensorboard<2.13,>=2.12->tensorflow) (2.17.3)\n",
            "Requirement already satisfied: tensorboard-data-server<0.8.0,>=0.7.0 in /usr/local/lib/python3.10/dist-packages (from tensorboard<2.13,>=2.12->tensorflow) (0.7.0)\n",
            "Requirement already satisfied: rsa<5,>=3.1.4 in /usr/local/lib/python3.10/dist-packages (from google-auth<3,>=1.6.3->tensorboard<2.13,>=2.12->tensorflow) (4.9)\n",
            "Requirement already satisfied: cachetools<6.0,>=2.0.0 in /usr/local/lib/python3.10/dist-packages (from google-auth<3,>=1.6.3->tensorboard<2.13,>=2.12->tensorflow) (5.3.0)\n",
            "Requirement already satisfied: pyasn1-modules>=0.2.1 in /usr/local/lib/python3.10/dist-packages (from google-auth<3,>=1.6.3->tensorboard<2.13,>=2.12->tensorflow) (0.3.0)\n",
            "Requirement already satisfied: requests-oauthlib>=0.7.0 in /usr/local/lib/python3.10/dist-packages (from google-auth-oauthlib<1.1,>=0.5->tensorboard<2.13,>=2.12->tensorflow) (1.3.1)\n",
            "Requirement already satisfied: certifi>=2017.4.17 in /usr/local/lib/python3.10/dist-packages (from requests<3,>=2.21.0->tensorboard<2.13,>=2.12->tensorflow) (2022.12.7)\n",
            "Requirement already satisfied: idna<4,>=2.5 in /usr/local/lib/python3.10/dist-packages (from requests<3,>=2.21.0->tensorboard<2.13,>=2.12->tensorflow) (3.4)\n",
            "Requirement already satisfied: urllib3<1.27,>=1.21.1 in /usr/local/lib/python3.10/dist-packages (from requests<3,>=2.21.0->tensorboard<2.13,>=2.12->tensorflow) (1.26.15)\n",
            "Requirement already satisfied: charset-normalizer~=2.0.0 in /usr/local/lib/python3.10/dist-packages (from requests<3,>=2.21.0->tensorboard<2.13,>=2.12->tensorflow) (2.0.12)\n",
            "Requirement already satisfied: MarkupSafe>=2.1.1 in /usr/local/lib/python3.10/dist-packages (from werkzeug>=1.0.1->tensorboard<2.13,>=2.12->tensorflow) (2.1.2)\n",
            "Requirement already satisfied: pyasn1<0.6.0,>=0.4.6 in /usr/local/lib/python3.10/dist-packages (from pyasn1-modules>=0.2.1->google-auth<3,>=1.6.3->tensorboard<2.13,>=2.12->tensorflow) (0.5.0)\n",
            "Requirement already satisfied: oauthlib>=3.0.0 in /usr/local/lib/python3.10/dist-packages (from requests-oauthlib>=0.7.0->google-auth-oauthlib<1.1,>=0.5->tensorboard<2.13,>=2.12->tensorflow) (3.2.2)\n"
          ]
        }
      ],
      "source": [
        "\n",
        "!pip install tensorflow_hub\n",
        "!pip install tensorflow"
      ]
    },
    {
      "cell_type": "code",
      "execution_count": 59,
      "id": "417f5f31",
      "metadata": {
        "colab": {
          "base_uri": "https://localhost:8080/"
        },
        "id": "417f5f31",
        "outputId": "5dcc8653-4421-4ec3-b077-e17f1a4b682a"
      },
      "outputs": [
        {
          "output_type": "stream",
          "name": "stdout",
          "text": [
            "Looking in indexes: https://pypi.org/simple, https://us-python.pkg.dev/colab-wheels/public/simple/\n",
            "Requirement already satisfied: lightgbm in /usr/local/lib/python3.10/dist-packages (3.3.5)\n",
            "Requirement already satisfied: wheel in /usr/local/lib/python3.10/dist-packages (from lightgbm) (0.40.0)\n",
            "Requirement already satisfied: scikit-learn!=0.22.0 in /usr/local/lib/python3.10/dist-packages (from lightgbm) (1.2.2)\n",
            "Requirement already satisfied: scipy in /usr/local/lib/python3.10/dist-packages (from lightgbm) (1.10.1)\n",
            "Requirement already satisfied: numpy in /usr/local/lib/python3.10/dist-packages (from lightgbm) (1.22.4)\n",
            "Requirement already satisfied: threadpoolctl>=2.0.0 in /usr/local/lib/python3.10/dist-packages (from scikit-learn!=0.22.0->lightgbm) (3.1.0)\n",
            "Requirement already satisfied: joblib>=1.1.1 in /usr/local/lib/python3.10/dist-packages (from scikit-learn!=0.22.0->lightgbm) (1.2.0)\n"
          ]
        }
      ],
      "source": [
        "!pip install lightgbm"
      ]
    },
    {
      "cell_type": "code",
      "execution_count": 69,
      "id": "36a53815",
      "metadata": {
        "execution": {
          "iopub.execute_input": "2021-09-29T03:57:17.320525Z",
          "iopub.status.busy": "2021-09-29T03:57:17.314957Z",
          "iopub.status.idle": "2021-09-29T03:57:22.894762Z",
          "shell.execute_reply": "2021-09-29T03:57:22.894011Z",
          "shell.execute_reply.started": "2021-09-29T03:16:14.045462Z"
        },
        "papermill": {
          "duration": 5.654442,
          "end_time": "2021-09-29T03:57:22.894884",
          "exception": false,
          "start_time": "2021-09-29T03:57:17.240442",
          "status": "completed"
        },
        "tags": [],
        "id": "36a53815"
      },
      "outputs": [],
      "source": [
        "import tensorflow_hub as hub\n",
        "import lightgbm as lgb\n",
        "\n",
        "def generate_embeddings(Oglin_Train,Ogling_Test,y_training,y_testing):\n",
        "    def emb_doc(data):\n",
        "        model = hub.load(\"https://tfhub.dev/google/universal-sentence-encoder/4\")\n",
        "        embeddings = nmp.array([nmp.array(model([i])) for i in data])\n",
        "        return pnd.DataFrame(nmp.vstack(embeddings))\n",
        "    \n",
        "    Vector_tra = emb_doc(Oglin_Train)\n",
        "    Vector_tes = emb_doc(Ogling_Test)\n",
        "   \n",
        "    model = XGBClassifier(n_estimators=1000,learning_rate=0.001,max_depth=5,n_jobs=8)\n",
        "    model.fit(Vector_tra, y_training)\n",
        "    model.score(Vector_tes, y_testing)\n",
        "    y_predict = model.predict(Vector_tes)\n",
        "    print('Algo scs')\n",
        "    score = roc_auc_score(y_predict,y_testing)\n",
        "    print(score)\n",
        "    ac = accuracy_score(y_testing, y_predict)\n",
        "    print(ac)\n",
        "    print(\"-------------------------------------------------------------------\")\n",
        "    print('LightGBM scs:')\n",
        "    l_og_istic = lgb.LGBMClassifier()\n",
        "    l_og_istic.fit(Vector_tra, y_training)\n",
        "    l_og_istic.score(Vector_tes, y_testing)\n",
        "    y_predict = l_og_istic.predict(Vector_tes)\n",
        "    score = roc_auc_score(y_predict,y_testing)\n",
        "    print(score)\n",
        "    ac = accuracy_score(y_testing, y_predict)\n",
        "    print(ac)\n",
        "    "
      ]
    },
    {
      "cell_type": "code",
      "execution_count": null,
      "id": "fa4c2143",
      "metadata": {
        "execution": {
          "iopub.execute_input": "2021-09-29T03:57:23.039250Z",
          "iopub.status.busy": "2021-09-29T03:57:23.030605Z",
          "iopub.status.idle": "2021-09-29T04:26:47.290730Z",
          "shell.execute_reply": "2021-09-29T04:26:47.291762Z",
          "shell.execute_reply.started": "2021-09-29T03:16:14.057958Z"
        },
        "papermill": {
          "duration": 1764.329503,
          "end_time": "2021-09-29T04:26:47.292007",
          "exception": false,
          "start_time": "2021-09-29T03:57:22.962504",
          "status": "completed"
        },
        "tags": [],
        "id": "fa4c2143"
      },
      "outputs": [],
      "source": [
        "y_training = ogling_train['Category']\n",
        "y_testing = ogling_test['Category']\n",
        "Oglin_Train = ogling_train['lower'] \n",
        "Ogling_Test = ogling_test['lower']\n",
        "generate_embeddings(Oglin_Train,Ogling_Test,y_training,y_testing) \n",
        "y_training = groping_train['Category'] \n",
        "y_testing = groping_test['Category'] \n",
        "Oglin_Train = groping_train['lower'] \n",
        "Ogling_Test = groping_test['lower'] \n",
        "generate_embeddings(Oglin_Train,Ogling_Test,y_training,y_testing) \n",
        "y_training = com_f_tra['Category'] \n",
        "y_testing = com_f_tes['Category'] \n",
        "Oglin_Train = com_f_tra['lower'] \n",
        "Ogling_Test = com_f_tes['lower'] \n",
        "generate_embeddings(Oglin_Train,Ogling_Test,y_training,y_testing)"
      ]
    },
    {
      "cell_type": "markdown",
      "source": [],
      "metadata": {
        "id": "LTJnYCWs8vZd"
      },
      "id": "LTJnYCWs8vZd"
    }
  ],
  "metadata": {
    "kernelspec": {
      "display_name": "Python 3 (ipykernel)",
      "language": "python",
      "name": "python3"
    },
    "language_info": {
      "codemirror_mode": {
        "name": "ipython",
        "version": 3
      },
      "file_extension": ".py",
      "mimetype": "text/x-python",
      "name": "python",
      "nbconvert_exporter": "python",
      "pygments_lexer": "ipython3",
      "version": "3.9.13"
    },
    "papermill": {
      "default_parameters": {},
      "duration": 1929.365248,
      "end_time": "2021-09-29T04:26:52.107430",
      "environment_variables": {},
      "exception": null,
      "input_path": "__notebook__.ipynb",
      "output_path": "__notebook__.ipynb",
      "parameters": {},
      "start_time": "2021-09-29T03:54:42.742182",
      "version": "2.3.3"
    },
    "colab": {
      "provenance": []
    }
  },
  "nbformat": 4,
  "nbformat_minor": 5
}